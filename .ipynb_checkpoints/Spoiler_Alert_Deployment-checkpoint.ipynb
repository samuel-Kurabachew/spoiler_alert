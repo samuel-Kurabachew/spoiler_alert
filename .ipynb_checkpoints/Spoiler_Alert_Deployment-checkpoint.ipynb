{
 "cells": [
  {
   "cell_type": "markdown",
   "metadata": {
    "id": "oa3KCreHXgKI"
   },
   "source": [
    "# Step 1: Getting the data"
   ]
  },
  {
   "cell_type": "code",
   "execution_count": 2,
   "metadata": {},
   "outputs": [
    {
     "name": "stdout",
     "output_type": "stream",
     "text": [
      "Requirement already satisfied: sagemaker==1.72.0 in /home/ec2-user/anaconda3/envs/pytorch_p36/lib/python3.6/site-packages (1.72.0)\n",
      "Requirement already satisfied: smdebug-rulesconfig==0.1.4 in /home/ec2-user/anaconda3/envs/pytorch_p36/lib/python3.6/site-packages (from sagemaker==1.72.0) (0.1.4)\n",
      "Requirement already satisfied: protobuf3-to-dict>=0.1.5 in /home/ec2-user/anaconda3/envs/pytorch_p36/lib/python3.6/site-packages (from sagemaker==1.72.0) (0.1.5)\n",
      "Requirement already satisfied: scipy>=0.19.0 in /home/ec2-user/anaconda3/envs/pytorch_p36/lib/python3.6/site-packages (from sagemaker==1.72.0) (1.5.3)\n",
      "Requirement already satisfied: importlib-metadata>=1.4.0 in /home/ec2-user/anaconda3/envs/pytorch_p36/lib/python3.6/site-packages (from sagemaker==1.72.0) (3.7.0)\n",
      "Requirement already satisfied: packaging>=20.0 in /home/ec2-user/anaconda3/envs/pytorch_p36/lib/python3.6/site-packages (from sagemaker==1.72.0) (20.9)\n",
      "Requirement already satisfied: numpy>=1.9.0 in /home/ec2-user/anaconda3/envs/pytorch_p36/lib/python3.6/site-packages (from sagemaker==1.72.0) (1.19.5)\n",
      "Requirement already satisfied: boto3>=1.14.12 in /home/ec2-user/anaconda3/envs/pytorch_p36/lib/python3.6/site-packages (from sagemaker==1.72.0) (1.17.55)\n",
      "Requirement already satisfied: protobuf>=3.1 in /home/ec2-user/anaconda3/envs/pytorch_p36/lib/python3.6/site-packages (from sagemaker==1.72.0) (3.15.2)\n",
      "Requirement already satisfied: botocore<1.21.0,>=1.20.55 in /home/ec2-user/anaconda3/envs/pytorch_p36/lib/python3.6/site-packages (from boto3>=1.14.12->sagemaker==1.72.0) (1.20.55)\n",
      "Requirement already satisfied: s3transfer<0.5.0,>=0.4.0 in /home/ec2-user/anaconda3/envs/pytorch_p36/lib/python3.6/site-packages (from boto3>=1.14.12->sagemaker==1.72.0) (0.4.1)\n",
      "Requirement already satisfied: jmespath<1.0.0,>=0.7.1 in /home/ec2-user/anaconda3/envs/pytorch_p36/lib/python3.6/site-packages (from boto3>=1.14.12->sagemaker==1.72.0) (0.10.0)\n",
      "Requirement already satisfied: urllib3<1.27,>=1.25.4 in /home/ec2-user/anaconda3/envs/pytorch_p36/lib/python3.6/site-packages (from botocore<1.21.0,>=1.20.55->boto3>=1.14.12->sagemaker==1.72.0) (1.26.4)\n",
      "Requirement already satisfied: python-dateutil<3.0.0,>=2.1 in /home/ec2-user/anaconda3/envs/pytorch_p36/lib/python3.6/site-packages (from botocore<1.21.0,>=1.20.55->boto3>=1.14.12->sagemaker==1.72.0) (2.8.1)\n",
      "Requirement already satisfied: zipp>=0.5 in /home/ec2-user/anaconda3/envs/pytorch_p36/lib/python3.6/site-packages (from importlib-metadata>=1.4.0->sagemaker==1.72.0) (3.4.0)\n",
      "Requirement already satisfied: typing-extensions>=3.6.4 in /home/ec2-user/anaconda3/envs/pytorch_p36/lib/python3.6/site-packages (from importlib-metadata>=1.4.0->sagemaker==1.72.0) (3.7.4.3)\n",
      "Requirement already satisfied: pyparsing>=2.0.2 in /home/ec2-user/anaconda3/envs/pytorch_p36/lib/python3.6/site-packages (from packaging>=20.0->sagemaker==1.72.0) (2.4.7)\n",
      "Requirement already satisfied: six>=1.9 in /home/ec2-user/anaconda3/envs/pytorch_p36/lib/python3.6/site-packages (from protobuf>=3.1->sagemaker==1.72.0) (1.15.0)\n"
     ]
    }
   ],
   "source": [
    "# Make sure that we use SageMaker 1.x\n",
    "!pip install sagemaker==1.72.0"
   ]
  },
  {
   "cell_type": "code",
   "execution_count": 3,
   "metadata": {
    "colab": {
     "base_uri": "https://localhost:8080/"
    },
    "executionInfo": {
     "elapsed": 18292,
     "status": "ok",
     "timestamp": 1619435298955,
     "user": {
      "displayName": "Samuel Kurabachew",
      "photoUrl": "https://lh3.googleusercontent.com/a-/AOh14GgjInGOQPqywN0ccz8vK2eDHnlbX5X8DFW0uzk7=s64",
      "userId": "05644532802210368105"
     },
     "user_tz": -120
    },
    "id": "XbdHaT46_6gy",
    "outputId": "670db41f-1a05-4a80-bba9-087e7df1424f"
   },
   "outputs": [],
   "source": [
    "# Uncomment when working with colab\n",
    "\n",
    "# from google.colab import drive\n",
    "# drive.mount('/content/drive')"
   ]
  },
  {
   "cell_type": "code",
   "execution_count": 4,
   "metadata": {
    "id": "2OkXgT3jak7a"
   },
   "outputs": [],
   "source": [
    "# Uncomment when working with colab\n",
    "\n",
    "# Insert the directory to import custom modules\n",
    "\n",
    "# import sys\n",
    "# sys.path.insert(0,'/content/drive/My Drive/Colab Notebooks/nlp')"
   ]
  },
  {
   "cell_type": "code",
   "execution_count": 5,
   "metadata": {
    "executionInfo": {
     "elapsed": 1231,
     "status": "ok",
     "timestamp": 1619435300904,
     "user": {
      "displayName": "Samuel Kurabachew",
      "photoUrl": "https://lh3.googleusercontent.com/a-/AOh14GgjInGOQPqywN0ccz8vK2eDHnlbX5X8DFW0uzk7=s64",
      "userId": "05644532802210368105"
     },
     "user_tz": -120
    },
    "id": "3KYH7mxRAh0b"
   },
   "outputs": [],
   "source": [
    "# Uncomment when working with colab\n",
    "\n",
    "# path = '/content/drive/My Drive/IMDB_spoiler_dataset/'"
   ]
  },
  {
   "cell_type": "code",
   "execution_count": 6,
   "metadata": {
    "executionInfo": {
     "elapsed": 2445,
     "status": "ok",
     "timestamp": 1619435302478,
     "user": {
      "displayName": "Samuel Kurabachew",
      "photoUrl": "https://lh3.googleusercontent.com/a-/AOh14GgjInGOQPqywN0ccz8vK2eDHnlbX5X8DFW0uzk7=s64",
      "userId": "05644532802210368105"
     },
     "user_tz": -120
    },
    "id": "etIcggHeAqwM"
   },
   "outputs": [
    {
     "name": "stdout",
     "output_type": "stream",
     "text": [
      "mkdir: cannot create directory ‘../data’: File exists\r\n"
     ]
    }
   ],
   "source": [
    "%mkdir ../data\n",
    "import os\n",
    "import glob\n",
    "import pandas as pd\n",
    "\n",
    "# Matplotlib conf\n",
    "import matplotlib.pyplot as plt\n",
    "%matplotlib inline\n",
    "\n",
    "# Seaborn conf\n",
    "import seaborn as sns\n",
    "sns.set_palette(sns.color_palette(\"seismic\"))\n",
    "\n",
    "from collections import Counter"
   ]
  },
  {
   "cell_type": "code",
   "execution_count": 7,
   "metadata": {},
   "outputs": [],
   "source": [
    "# Getting data from amazon bucket\n",
    "\n",
    "bucket='imdb-review-dataset'\n",
    "data_key = 'IMDB_reviews.json'\n",
    "data_location = 's3://{}/{}'.format(bucket, data_key)\n",
    "\n",
    "train_data = pd.read_json(data_location)"
   ]
  },
  {
   "cell_type": "code",
   "execution_count": 8,
   "metadata": {
    "executionInfo": {
     "elapsed": 29133,
     "status": "ok",
     "timestamp": 1619435330180,
     "user": {
      "displayName": "Samuel Kurabachew",
      "photoUrl": "https://lh3.googleusercontent.com/a-/AOh14GgjInGOQPqywN0ccz8vK2eDHnlbX5X8DFW0uzk7=s64",
      "userId": "05644532802210368105"
     },
     "user_tz": -120
    },
    "id": "7SNv641XArul"
   },
   "outputs": [],
   "source": [
    "# Uncomment when working with colab\n",
    "\n",
    "# train_data = pd.read_json(path + 'IMDB_reviews.json', lines=True).\\\n",
    "#                           drop_duplicates('review_text').sample(frac=1)"
   ]
  },
  {
   "cell_type": "code",
   "execution_count": 9,
   "metadata": {
    "colab": {
     "base_uri": "https://localhost:8080/",
     "height": 306
    },
    "executionInfo": {
     "elapsed": 25826,
     "status": "ok",
     "timestamp": 1619435330187,
     "user": {
      "displayName": "Samuel Kurabachew",
      "photoUrl": "https://lh3.googleusercontent.com/a-/AOh14GgjInGOQPqywN0ccz8vK2eDHnlbX5X8DFW0uzk7=s64",
      "userId": "05644532802210368105"
     },
     "user_tz": -120
    },
    "id": "H3ZCca0DA4LO",
    "outputId": "dd7ef418-ac13-42db-dcc0-64b0cb880fa7"
   },
   "outputs": [
    {
     "name": "stdout",
     "output_type": "stream",
     "text": [
      "(200000, 7)\n"
     ]
    },
    {
     "data": {
      "text/html": [
       "<div>\n",
       "<style scoped>\n",
       "    .dataframe tbody tr th:only-of-type {\n",
       "        vertical-align: middle;\n",
       "    }\n",
       "\n",
       "    .dataframe tbody tr th {\n",
       "        vertical-align: top;\n",
       "    }\n",
       "\n",
       "    .dataframe thead th {\n",
       "        text-align: right;\n",
       "    }\n",
       "</style>\n",
       "<table border=\"1\" class=\"dataframe\">\n",
       "  <thead>\n",
       "    <tr style=\"text-align: right;\">\n",
       "      <th></th>\n",
       "      <th>review_date</th>\n",
       "      <th>movie_id</th>\n",
       "      <th>user_id</th>\n",
       "      <th>is_spoiler</th>\n",
       "      <th>review_text</th>\n",
       "      <th>rating</th>\n",
       "      <th>review_summary</th>\n",
       "    </tr>\n",
       "  </thead>\n",
       "  <tbody>\n",
       "    <tr>\n",
       "      <th>144622</th>\n",
       "      <td>7 May 2007</td>\n",
       "      <td>tt0414993</td>\n",
       "      <td>ur0730831</td>\n",
       "      <td>False</td>\n",
       "      <td>It wouldn't be wrong to say that here in the U...</td>\n",
       "      <td>8</td>\n",
       "      <td>A masterpiece</td>\n",
       "    </tr>\n",
       "    <tr>\n",
       "      <th>114926</th>\n",
       "      <td>17 January 2001</td>\n",
       "      <td>tt0137523</td>\n",
       "      <td>ur0991805</td>\n",
       "      <td>False</td>\n",
       "      <td>I think this is one of the best movies ever. T...</td>\n",
       "      <td>10</td>\n",
       "      <td>SUPER !!!!</td>\n",
       "    </tr>\n",
       "    <tr>\n",
       "      <th>150839</th>\n",
       "      <td>3 August 2017</td>\n",
       "      <td>tt2239822</td>\n",
       "      <td>ur79060296</td>\n",
       "      <td>False</td>\n",
       "      <td>What a good film. Maybe the best European Film...</td>\n",
       "      <td>10</td>\n",
       "      <td>One of the best Sci-Fi Films ever.....</td>\n",
       "    </tr>\n",
       "    <tr>\n",
       "      <th>66719</th>\n",
       "      <td>23 June 1999</td>\n",
       "      <td>tt0066921</td>\n",
       "      <td>ur0361577</td>\n",
       "      <td>True</td>\n",
       "      <td>I thought that this movie was awful.  I was so...</td>\n",
       "      <td>1</td>\n",
       "      <td>Ick.</td>\n",
       "    </tr>\n",
       "    <tr>\n",
       "      <th>31773</th>\n",
       "      <td>16 July 2005</td>\n",
       "      <td>tt0367594</td>\n",
       "      <td>ur4433753</td>\n",
       "      <td>True</td>\n",
       "      <td>Anytime Tim Burton and Johnny Depp get togethe...</td>\n",
       "      <td>7</td>\n",
       "      <td>A wonderful adventure</td>\n",
       "    </tr>\n",
       "  </tbody>\n",
       "</table>\n",
       "</div>"
      ],
      "text/plain": [
       "            review_date   movie_id     user_id  is_spoiler  \\\n",
       "144622       7 May 2007  tt0414993   ur0730831       False   \n",
       "114926  17 January 2001  tt0137523   ur0991805       False   \n",
       "150839    3 August 2017  tt2239822  ur79060296       False   \n",
       "66719      23 June 1999  tt0066921   ur0361577        True   \n",
       "31773      16 July 2005  tt0367594   ur4433753        True   \n",
       "\n",
       "                                              review_text  rating  \\\n",
       "144622  It wouldn't be wrong to say that here in the U...       8   \n",
       "114926  I think this is one of the best movies ever. T...      10   \n",
       "150839  What a good film. Maybe the best European Film...      10   \n",
       "66719   I thought that this movie was awful.  I was so...       1   \n",
       "31773   Anytime Tim Burton and Johnny Depp get togethe...       7   \n",
       "\n",
       "                                review_summary  \n",
       "144622                           A masterpiece  \n",
       "114926                              SUPER !!!!  \n",
       "150839  One of the best Sci-Fi Films ever.....  \n",
       "66719                                     Ick.  \n",
       "31773                    A wonderful adventure  "
      ]
     },
     "execution_count": 9,
     "metadata": {},
     "output_type": "execute_result"
    }
   ],
   "source": [
    "print(train_data.shape)\n",
    "train_data.head()"
   ]
  },
  {
   "cell_type": "markdown",
   "metadata": {
    "id": "K1FzxKAlXqu2"
   },
   "source": [
    "# Step 2: Preparing and Processing the data"
   ]
  },
  {
   "cell_type": "code",
   "execution_count": 10,
   "metadata": {
    "colab": {
     "base_uri": "https://localhost:8080/",
     "height": 295
    },
    "executionInfo": {
     "elapsed": 18801,
     "status": "ok",
     "timestamp": 1619435330494,
     "user": {
      "displayName": "Samuel Kurabachew",
      "photoUrl": "https://lh3.googleusercontent.com/a-/AOh14GgjInGOQPqywN0ccz8vK2eDHnlbX5X8DFW0uzk7=s64",
      "userId": "05644532802210368105"
     },
     "user_tz": -120
    },
    "id": "cUsmyi4QBDhP",
    "outputId": "b553b17c-54b9-4f24-84ee-8eb7eaf4fa01",
    "scrolled": true
   },
   "outputs": [
    {
     "data": {
      "image/png": "[encoded data removed]",
      "text/plain": [
       "<Figure size 432x288 with 1 Axes>"
      ]
     },
     "metadata": {
      "needs_background": "light"
     },
     "output_type": "display_data"
    }
   ],
   "source": [
    "sns.countplot(x=train_data.is_spoiler, order=[x for x, count in sorted(Counter(train_data.is_spoiler).items(), key=lambda x: -x[1])], palette=\"seismic\")\n",
    "plt.xticks(rotation=90);"
   ]
  },
  {
   "cell_type": "code",
   "execution_count": 11,
   "metadata": {
    "executionInfo": {
     "elapsed": 17437,
     "status": "ok",
     "timestamp": 1619435330700,
     "user": {
      "displayName": "Samuel Kurabachew",
      "photoUrl": "https://lh3.googleusercontent.com/a-/AOh14GgjInGOQPqywN0ccz8vK2eDHnlbX5X8DFW0uzk7=s64",
      "userId": "05644532802210368105"
     },
     "user_tz": -120
    },
    "id": "YxOgAYDuBOwv"
   },
   "outputs": [],
   "source": [
    "# Uncomment when working with colab\n",
    "\n",
    "# spoiler_data = train_data[train_data[\"is_spoiler\"]==True][:100000]\n",
    "# non_spoiler_data = train_data[train_data[\"is_spoiler\"]==False][:100000]"
   ]
  },
  {
   "cell_type": "code",
   "execution_count": 12,
   "metadata": {
    "colab": {
     "base_uri": "https://localhost:8080/"
    },
    "executionInfo": {
     "elapsed": 16285,
     "status": "ok",
     "timestamp": 1619435330710,
     "user": {
      "displayName": "Samuel Kurabachew",
      "photoUrl": "https://lh3.googleusercontent.com/a-/AOh14GgjInGOQPqywN0ccz8vK2eDHnlbX5X8DFW0uzk7=s64",
      "userId": "05644532802210368105"
     },
     "user_tz": -120
    },
    "id": "ZYD-9038BqUi",
    "outputId": "3aa4e92b-7243-4497-922f-c69ee9f18e2b"
   },
   "outputs": [],
   "source": [
    "# Uncomment when working with colab\n",
    "\n",
    "# print(spoiler_data.shape)\n",
    "# print(non_spoiler_data.shape)"
   ]
  },
  {
   "cell_type": "code",
   "execution_count": 13,
   "metadata": {
    "colab": {
     "base_uri": "https://localhost:8080/",
     "height": 289
    },
    "executionInfo": {
     "elapsed": 15661,
     "status": "ok",
     "timestamp": 1619435330712,
     "user": {
      "displayName": "Samuel Kurabachew",
      "photoUrl": "https://lh3.googleusercontent.com/a-/AOh14GgjInGOQPqywN0ccz8vK2eDHnlbX5X8DFW0uzk7=s64",
      "userId": "05644532802210368105"
     },
     "user_tz": -120
    },
    "id": "urEm3saqBrml",
    "outputId": "7e25a992-a54d-436c-afae-5f54af5161c9"
   },
   "outputs": [],
   "source": [
    "# Uncomment when working with colab\n",
    "\n",
    "# spoiler_data.head()"
   ]
  },
  {
   "cell_type": "code",
   "execution_count": 14,
   "metadata": {
    "colab": {
     "base_uri": "https://localhost:8080/",
     "height": 289
    },
    "executionInfo": {
     "elapsed": 14999,
     "status": "ok",
     "timestamp": 1619435330714,
     "user": {
      "displayName": "Samuel Kurabachew",
      "photoUrl": "https://lh3.googleusercontent.com/a-/AOh14GgjInGOQPqywN0ccz8vK2eDHnlbX5X8DFW0uzk7=s64",
      "userId": "05644532802210368105"
     },
     "user_tz": -120
    },
    "id": "N7m7OwL1BtQ5",
    "outputId": "11b39bb6-2b9e-410d-dce9-e9f649f7ea88"
   },
   "outputs": [],
   "source": [
    "# Uncomment when working with colab\n",
    "\n",
    "# non_spoiler_data.head()"
   ]
  },
  {
   "cell_type": "markdown",
   "metadata": {
    "id": "xu03cLWLCU9V"
   },
   "source": [
    "Now that we've managed to minimize our dataset, we will combine the positive and negative reviews and shuffle the resulting records and prepare training and test data."
   ]
  },
  {
   "cell_type": "code",
   "execution_count": 15,
   "metadata": {
    "executionInfo": {
     "elapsed": 14324,
     "status": "ok",
     "timestamp": 1619435331220,
     "user": {
      "displayName": "Samuel Kurabachew",
      "photoUrl": "https://lh3.googleusercontent.com/a-/AOh14GgjInGOQPqywN0ccz8vK2eDHnlbX5X8DFW0uzk7=s64",
      "userId": "05644532802210368105"
     },
     "user_tz": -120
    },
    "id": "rdsnmg1HB4wc"
   },
   "outputs": [],
   "source": [
    "from sklearn.utils import shuffle\n",
    "from sklearn.model_selection import train_test_split\n",
    "\n",
    "X = train_data[\"review_text\"]\n",
    "y = list(map(lambda x: 0 if x==False else 1, train_data[\"is_spoiler\"]))\n",
    "\n",
    "X_train, X_test, y_train, y_test = train_test_split(X,\n",
    "                                                    y,\n",
    "                                                    test_size=0.2,\n",
    "                                                    shuffle=True,\n",
    "                                                    random_state=42)\n",
    "# Uncomment when working with colab\n",
    "\n",
    "\n",
    "# from sklearn.utils import shuffle\n",
    "# from sklearn.model_selection import train_test_split\n",
    "\n",
    "# def prepare_imdb_data(spoiler, not_spoiler):\n",
    "#     \"\"\"Prepare training and test sets from IMDb movie reviews.\"\"\"\n",
    "    \n",
    "#     #Combine spoiler and non_spoiler dataset\n",
    "#     all_data = pd.concat([spoiler, not_spoiler], ignore_index=True)\n",
    "    \n",
    "#     # Shuffle data\n",
    "#     all_data = all_data.sample(frac=1)\n",
    "\n",
    "#     # Get Review and label\n",
    "#     X = all_data[\"review_text\"]\n",
    "#     y = list(map(lambda x: 0 if x==False else 1, all_data[\"is_spoiler\"]))\n",
    "#     # Train test split\n",
    "#     X_train, X_test, y_train, y_test = train_test_split(X, y, test_size=0.2, shuffle=True, random_state=42)\n",
    "\n",
    "#     return X_train, X_test, y_train, y_test"
   ]
  },
  {
   "cell_type": "code",
   "execution_count": 16,
   "metadata": {
    "colab": {
     "base_uri": "https://localhost:8080/"
    },
    "executionInfo": {
     "elapsed": 14864,
     "status": "ok",
     "timestamp": 1619435332550,
     "user": {
      "displayName": "Samuel Kurabachew",
      "photoUrl": "https://lh3.googleusercontent.com/a-/AOh14GgjInGOQPqywN0ccz8vK2eDHnlbX5X8DFW0uzk7=s64",
      "userId": "05644532802210368105"
     },
     "user_tz": -120
    },
    "id": "yMSjfnyNHZDz",
    "outputId": "bcf273cb-d2d2-42f3-efd9-f579cafe0486"
   },
   "outputs": [],
   "source": [
    "# Uncomment when working with colab\n",
    "\n",
    "# X_train, X_test, y_train, y_test = prepare_imdb_data(spoiler_data, non_spoiler_data)\n",
    "# print(\"IMDb reviews (combined): train = {}, test = {}\".format(len(X_train), len(X_test)))"
   ]
  },
  {
   "cell_type": "code",
   "execution_count": 17,
   "metadata": {},
   "outputs": [
    {
     "data": {
      "text/plain": [
       "17872     Not different from BvS, plot and pace wise, bu...\n",
       "98736     2012 is full of misconceptions and other stuff...\n",
       "143561    Well, I can say is that I don't see this movie...\n",
       "21229     This is really pretty bad. It's a blatant atte...\n",
       "170620    American Beauty (1999) D: Sam Mendes. Kevin Sp...\n",
       "Name: review_text, dtype: object"
      ]
     },
     "execution_count": 17,
     "metadata": {},
     "output_type": "execute_result"
    }
   ],
   "source": [
    "X_train.head()"
   ]
  },
  {
   "cell_type": "code",
   "execution_count": 18,
   "metadata": {},
   "outputs": [
    {
     "data": {
      "text/plain": [
       "[1, 1, 0, 1, 0]"
      ]
     },
     "execution_count": 18,
     "metadata": {},
     "output_type": "execute_result"
    }
   ],
   "source": [
    "y_train[:5]"
   ]
  },
  {
   "cell_type": "code",
   "execution_count": 19,
   "metadata": {
    "colab": {
     "base_uri": "https://localhost:8080/"
    },
    "executionInfo": {
     "elapsed": 14268,
     "status": "ok",
     "timestamp": 1619435332552,
     "user": {
      "displayName": "Samuel Kurabachew",
      "photoUrl": "https://lh3.googleusercontent.com/a-/AOh14GgjInGOQPqywN0ccz8vK2eDHnlbX5X8DFW0uzk7=s64",
      "userId": "05644532802210368105"
     },
     "user_tz": -120
    },
    "id": "kBJEpXniIa1b",
    "outputId": "4231e488-8ff4-43a7-edcc-c597928d704f"
   },
   "outputs": [
    {
     "name": "stdout",
     "output_type": "stream",
     "text": [
      "17872    Not different from BvS, plot and pace wise, bu...\n",
      "Name: review_text, dtype: object\n",
      "[1]\n"
     ]
    }
   ],
   "source": [
    "print(X_train[:1])\n",
    "print(y_train[:1])"
   ]
  },
  {
   "cell_type": "markdown",
   "metadata": {
    "id": "oSkCsCx-LRst"
   },
   "source": [
    "The first step in processing the reviews is to make sure that any symbols or tags that appear should be removed. In addition we wish to tokenize our input, that way words such as *entertained* and *entertaining* are considered the same with regard to sentiment analysis. The `review_to_words` method defined above uses the nltk package to tokenize the reviews."
   ]
  },
  {
   "cell_type": "code",
   "execution_count": 20,
   "metadata": {
    "executionInfo": {
     "elapsed": 13777,
     "status": "ok",
     "timestamp": 1619435333288,
     "user": {
      "displayName": "Samuel Kurabachew",
      "photoUrl": "https://lh3.googleusercontent.com/a-/AOh14GgjInGOQPqywN0ccz8vK2eDHnlbX5X8DFW0uzk7=s64",
      "userId": "05644532802210368105"
     },
     "user_tz": -120
    },
    "id": "rVHGBYACKkmv"
   },
   "outputs": [],
   "source": [
    "import nltk\n",
    "from nltk.corpus import stopwords\n",
    "from nltk.stem.porter import *\n",
    "\n",
    "import re\n",
    "\n",
    "def review_to_words(review):\n",
    "    nltk.download(\"stopwords\", quiet=True)\n",
    "    stemmer = PorterStemmer()\n",
    "    \n",
    "    # Clean the text\n",
    "    text = str(review)\n",
    "    text = text.lower()\n",
    "    \n",
    "    text = re.sub(r\"[^A-Za-z0-9^,!:.\\/'+-=]\", \" \", text)\n",
    "\n",
    "\n",
    "    words = text.split() # Split string into words\n",
    "    words = [w for w in words if w not in stopwords.words(\"english\")] # Remove stopwords\n",
    "    words = [PorterStemmer().stem(w) for w in words] # stem\n",
    "    \n",
    "    return words"
   ]
  },
  {
   "cell_type": "markdown",
   "metadata": {
    "id": "m-VdNA9uTq3O"
   },
   "source": [
    "The method below applies the `review_to_words` method to each of the reviews in the training and testing datasets. In addition it caches the results. This is because performing this processing step can take a long time. This way if you are unable to complete the notebook in the current session, you can come back without needing to process the data a second time."
   ]
  },
  {
   "cell_type": "code",
   "execution_count": 21,
   "metadata": {
    "executionInfo": {
     "elapsed": 11806,
     "status": "ok",
     "timestamp": 1619435333290,
     "user": {
      "displayName": "Samuel Kurabachew",
      "photoUrl": "https://lh3.googleusercontent.com/a-/AOh14GgjInGOQPqywN0ccz8vK2eDHnlbX5X8DFW0uzk7=s64",
      "userId": "05644532802210368105"
     },
     "user_tz": -120
    },
    "id": "TpouNwQ5TCTc"
   },
   "outputs": [],
   "source": [
    "import pickle\n",
    "\n",
    "cache_dir = os.path.join(\"../cache\", \"spoiler_analysis\")  # where to store cache files\n",
    "os.makedirs(cache_dir, exist_ok=True)  # ensure cache directory exists\n",
    "\n",
    "def preprocess_data(data_train, data_test, labels_train, labels_test,\n",
    "                    cache_dir=cache_dir, cache_file=\"preprocessed_data.pkl\"):\n",
    "    \"\"\"Convert each review to words; read from cache if available.\"\"\"\n",
    "\n",
    "    # If cache_file is not None, try to read from it first\n",
    "    cache_data = None\n",
    "    if cache_file is not None:\n",
    "        try:\n",
    "            with open(os.path.join(cache_dir, cache_file), \"rb\") as f:\n",
    "                cache_data = pickle.load(f)\n",
    "            print(\"Read preprocessed data from cache file:\", cache_file)\n",
    "        except:\n",
    "            pass  # unable to read from cache, but that's okay\n",
    "    \n",
    "    # If cache is missing, then do the heavy lifting\n",
    "    if cache_data is None:\n",
    "        # Preprocess training and test data to obtain words for each review\n",
    "        #words_train = list(map(review_to_words, data_train))\n",
    "        #words_test = list(map(review_to_words, data_test))\n",
    "        words_train = [review_to_words(review) for review in data_train]\n",
    "        words_test = [review_to_words(review) for review in data_test]\n",
    "        \n",
    "        # Write to cache file for future runs\n",
    "        if cache_file is not None:\n",
    "            cache_data = dict(words_train=words_train, words_test=words_test,\n",
    "                              labels_train=labels_train, labels_test=labels_test)\n",
    "            with open(os.path.join(cache_dir, cache_file), \"wb\") as f:\n",
    "                pickle.dump(cache_data, f)\n",
    "            print(\"Wrote preprocessed data to cache file:\", cache_file)\n",
    "    else:\n",
    "        # Unpack data loaded from cache file\n",
    "        words_train, words_test, labels_train, labels_test = (cache_data['words_train'],\n",
    "                cache_data['words_test'], cache_data['labels_train'], cache_data['labels_test'])\n",
    "    \n",
    "    return words_train, words_test, labels_train, labels_test"
   ]
  },
  {
   "cell_type": "code",
   "execution_count": 22,
   "metadata": {
    "colab": {
     "base_uri": "https://localhost:8080/"
    },
    "executionInfo": {
     "elapsed": 7438887,
     "status": "ok",
     "timestamp": 1619442761238,
     "user": {
      "displayName": "Samuel Kurabachew",
      "photoUrl": "https://lh3.googleusercontent.com/a-/AOh14GgjInGOQPqywN0ccz8vK2eDHnlbX5X8DFW0uzk7=s64",
      "userId": "05644532802210368105"
     },
     "user_tz": -120
    },
    "id": "bm5eFWePTN55",
    "outputId": "e874cb6f-9f89-4aaa-9738-ab710dcbc62c"
   },
   "outputs": [
    {
     "name": "stdout",
     "output_type": "stream",
     "text": [
      "Read preprocessed data from cache file: preprocessed_data.pkl\n"
     ]
    }
   ],
   "source": [
    "# Preprocess data\n",
    "X_train, X_test, y_train, y_test = preprocess_data(X_train, X_test, y_train, y_test)"
   ]
  },
  {
   "cell_type": "code",
   "execution_count": 23,
   "metadata": {},
   "outputs": [
    {
     "data": {
      "text/plain": [
       "0"
      ]
     },
     "execution_count": 23,
     "metadata": {},
     "output_type": "execute_result"
    }
   ],
   "source": [
    "# Clean our memory\n",
    "\n",
    "import gc\n",
    "\n",
    "del train_data\n",
    "gc.collect()"
   ]
  },
  {
   "cell_type": "markdown",
   "metadata": {
    "id": "KDCO0hXhUJ8K"
   },
   "source": [
    "## Transform the data\n",
    "\n",
    "For the model we are going to construct in this notebook we will construct a feature representation which is very similar to bag-of-words. To start, we will represent each word as an integer. Of course, some of the words that appear in the reviews occur very infrequently and so likely don't contain much information for the purposes of the review analysis. The way we will deal with this problem is that we will fix the size of our working vocabulary and we will only include the words that appear most frequently. We will then combine all of the infrequent words into a single category and, in our case, we will label it as 1.\n",
    "\n",
    "Since we will be using a recurrent neural network, it will be convenient if the length of each review is the same. To do this, we will fix a size for our reviews and then pad short reviews with the category 'no word' (which we will label 0) and truncate long reviews."
   ]
  },
  {
   "cell_type": "markdown",
   "metadata": {
    "id": "CLgffvEpUsTL"
   },
   "source": [
    "To begin with, we need to construct a way to map words that appear in the reviews to integers. Here we fix the size of our vocabulary (including the 'no word' and 'infrequent' categories) to be `5000` but you may wish to change this to see how it affects the model.\n",
    "\n",
    " Note that even though the vocab_size is set to 5000, we only want to construct a mapping for the most frequently appearing 4998 words. This is because we want to reserve the special labels `0` for 'no word' and `1` for 'infrequent word'."
   ]
  },
  {
   "cell_type": "code",
   "execution_count": 24,
   "metadata": {
    "executionInfo": {
     "elapsed": 454,
     "status": "ok",
     "timestamp": 1619442770688,
     "user": {
      "displayName": "Samuel Kurabachew",
      "photoUrl": "https://lh3.googleusercontent.com/a-/AOh14GgjInGOQPqywN0ccz8vK2eDHnlbX5X8DFW0uzk7=s64",
      "userId": "05644532802210368105"
     },
     "user_tz": -120
    },
    "id": "vhHStUYCTQN4"
   },
   "outputs": [],
   "source": [
    "import numpy as np\n",
    "\n",
    "def build_dict(data, vocab_size = 5000):\n",
    "    \"\"\"Construct and return a dictionary mapping each of the most frequently appearing words to a unique integer.\"\"\"\n",
    "    \n",
    "    # Determine how often each word appears in `data`. Note that `data` is a list of sentences and that a\n",
    "    # sentence is a list of words.\n",
    "    \n",
    "    word_count = {} # A dict storing the words that appear in the reviews along with how often they occur\n",
    "    \n",
    "    for review in data:\n",
    "        for word in review:\n",
    "            if word in word_count:\n",
    "                word_count[word] += 1\n",
    "            else:\n",
    "                word_count[word] = 1\n",
    "    # Sort the words found in `data` so that sorted_words[0] is the most frequently appearing word and\n",
    "    # sorted_words[-1] is the least frequently appearing word.\n",
    "    \n",
    "    sorted_words = None\n",
    "    sorted_words = sorted(word_count, key=word_count.get, reverse=True)\n",
    "    \n",
    "    word_dict = {} # This is what we are building, a dictionary that translates words into integers\n",
    "    for idx, word in enumerate(sorted_words[:vocab_size - 2]): # The -2 is so that we save room for the 'no word' and\n",
    "        word_dict[word] = idx + 2                              # 'infrequent' labels\n",
    "        \n",
    "    return word_dict"
   ]
  },
  {
   "cell_type": "code",
   "execution_count": 25,
   "metadata": {
    "executionInfo": {
     "elapsed": 10904,
     "status": "ok",
     "timestamp": 1619442784453,
     "user": {
      "displayName": "Samuel Kurabachew",
      "photoUrl": "https://lh3.googleusercontent.com/a-/AOh14GgjInGOQPqywN0ccz8vK2eDHnlbX5X8DFW0uzk7=s64",
      "userId": "05644532802210368105"
     },
     "user_tz": -120
    },
    "id": "JNnnoDPfVGMo"
   },
   "outputs": [],
   "source": [
    "word_dict = build_dict(X_train)"
   ]
  },
  {
   "cell_type": "markdown",
   "metadata": {
    "id": "mv9Mg6crVJIs"
   },
   "source": [
    "Let's see the most frequent words in our dataset."
   ]
  },
  {
   "cell_type": "code",
   "execution_count": 26,
   "metadata": {
    "colab": {
     "base_uri": "https://localhost:8080/"
    },
    "executionInfo": {
     "elapsed": 708,
     "status": "ok",
     "timestamp": 1619442786341,
     "user": {
      "displayName": "Samuel Kurabachew",
      "photoUrl": "https://lh3.googleusercontent.com/a-/AOh14GgjInGOQPqywN0ccz8vK2eDHnlbX5X8DFW0uzk7=s64",
      "userId": "05644532802210368105"
     },
     "user_tz": -120
    },
    "id": "A62lLtuPVVt9",
    "outputId": "b1fc551a-5432-4171-d3dc-ea460a25858c"
   },
   "outputs": [
    {
     "name": "stdout",
     "output_type": "stream",
     "text": [
      "movi\n",
      "film\n",
      "like\n",
      "one\n",
      "make\n",
      "see\n"
     ]
    }
   ],
   "source": [
    "count = 0\n",
    "for word in word_dict:\n",
    "    print(word)\n",
    "    if count > 4:\n",
    "        break\n",
    "    count += 1"
   ]
  },
  {
   "cell_type": "markdown",
   "metadata": {
    "id": "eBV-C3LlVY3z"
   },
   "source": [
    "## Save `word_dict`\n",
    "\n",
    "Later on when we construct an endpoint which processes a submitted review we will need to make use of the `word_dict` which we have created. As such, we will save it to a file now for future use."
   ]
  },
  {
   "cell_type": "code",
   "execution_count": 27,
   "metadata": {
    "executionInfo": {
     "elapsed": 515,
     "status": "ok",
     "timestamp": 1619442802985,
     "user": {
      "displayName": "Samuel Kurabachew",
      "photoUrl": "https://lh3.googleusercontent.com/a-/AOh14GgjInGOQPqywN0ccz8vK2eDHnlbX5X8DFW0uzk7=s64",
      "userId": "05644532802210368105"
     },
     "user_tz": -120
    },
    "id": "azEEtoTZVgxc"
   },
   "outputs": [],
   "source": [
    "data_dir = '../data/pytorch' # The folder we will use for storing data\n",
    "if not os.path.exists(data_dir): # Make sure that the folder exists\n",
    "    os.makedirs(data_dir)"
   ]
  },
  {
   "cell_type": "code",
   "execution_count": 28,
   "metadata": {
    "executionInfo": {
     "elapsed": 429,
     "status": "ok",
     "timestamp": 1619442804146,
     "user": {
      "displayName": "Samuel Kurabachew",
      "photoUrl": "https://lh3.googleusercontent.com/a-/AOh14GgjInGOQPqywN0ccz8vK2eDHnlbX5X8DFW0uzk7=s64",
      "userId": "05644532802210368105"
     },
     "user_tz": -120
    },
    "id": "IQrfszIqViUm"
   },
   "outputs": [],
   "source": [
    "with open(os.path.join(data_dir, 'word_dict.pkl'), \"wb\") as f:\n",
    "    pickle.dump(word_dict, f)"
   ]
  },
  {
   "cell_type": "markdown",
   "metadata": {
    "id": "aSJ7hQVlVlrB"
   },
   "source": [
    "## Transform the reviews\n",
    "\n",
    "Now that we have our word dictionary which allows us to transform the words appearing in the reviews into integers, it is time to make use of it and convert our reviews to their integer sequence representation, making sure to pad or truncate to a fixed length, which in our case is `500`."
   ]
  },
  {
   "cell_type": "code",
   "execution_count": 29,
   "metadata": {
    "executionInfo": {
     "elapsed": 426,
     "status": "ok",
     "timestamp": 1619442809585,
     "user": {
      "displayName": "Samuel Kurabachew",
      "photoUrl": "https://lh3.googleusercontent.com/a-/AOh14GgjInGOQPqywN0ccz8vK2eDHnlbX5X8DFW0uzk7=s64",
      "userId": "05644532802210368105"
     },
     "user_tz": -120
    },
    "id": "keXBuFvLV2OH"
   },
   "outputs": [],
   "source": [
    "def convert_and_pad(word_dict, sentence, pad=500):\n",
    "    NOWORD = 0 # We will use 0 to represent the 'no word' category\n",
    "    INFREQ = 1 # and we use 1 to represent the infrequent words, i.e., words not appearing in word_dict\n",
    "    \n",
    "    working_sentence = [NOWORD] * pad\n",
    "    \n",
    "    for word_index, word in enumerate(sentence[:pad]):\n",
    "        if word in word_dict:\n",
    "            working_sentence[word_index] = word_dict[word]\n",
    "        else:\n",
    "            working_sentence[word_index] = INFREQ\n",
    "            \n",
    "    return working_sentence, min(len(sentence), pad)\n",
    "\n",
    "def convert_and_pad_data(word_dict, data, pad=500):\n",
    "    result = []\n",
    "    lengths = []\n",
    "    \n",
    "    for sentence in data:\n",
    "        converted, leng = convert_and_pad(word_dict, sentence, pad)\n",
    "        result.append(converted)\n",
    "        lengths.append(leng)\n",
    "        \n",
    "    return np.array(result), np.array(lengths)"
   ]
  },
  {
   "cell_type": "code",
   "execution_count": 30,
   "metadata": {
    "executionInfo": {
     "elapsed": 19485,
     "status": "ok",
     "timestamp": 1619442829917,
     "user": {
      "displayName": "Samuel Kurabachew",
      "photoUrl": "https://lh3.googleusercontent.com/a-/AOh14GgjInGOQPqywN0ccz8vK2eDHnlbX5X8DFW0uzk7=s64",
      "userId": "05644532802210368105"
     },
     "user_tz": -120
    },
    "id": "ACg5p0xQV6u4"
   },
   "outputs": [],
   "source": [
    "X_train, X_train_len = convert_and_pad_data(word_dict, X_train)\n",
    "X_test, X_test_len = convert_and_pad_data(word_dict, X_test)"
   ]
  },
  {
   "cell_type": "markdown",
   "metadata": {
    "id": "pELxJqbkWY6U"
   },
   "source": [
    "As a quick check to make sure that things are working as intended, check to see what one of the reviews in the training set looks like after having been processeed."
   ]
  },
  {
   "cell_type": "code",
   "execution_count": 31,
   "metadata": {
    "colab": {
     "base_uri": "https://localhost:8080/"
    },
    "executionInfo": {
     "elapsed": 9318,
     "status": "ok",
     "timestamp": 1619442829919,
     "user": {
      "displayName": "Samuel Kurabachew",
      "photoUrl": "https://lh3.googleusercontent.com/a-/AOh14GgjInGOQPqywN0ccz8vK2eDHnlbX5X8DFW0uzk7=s64",
      "userId": "05644532802210368105"
     },
     "user_tz": -120
    },
    "id": "T-Yj30iiWb15",
    "outputId": "069d8068-8717-42ba-f44b-f5f14c1e5d6b"
   },
   "outputs": [
    {
     "data": {
      "text/plain": [
       "array([   1, 2901,  597,    1,    1,  324,  135,   57,   64,  576,   31,\n",
       "         14,    9, 1104,  196,  524,   12,   67,  225,  275,  161,  888,\n",
       "         43,    2,   97,    1,  743,  736,  743,  700,  454,  147,  727,\n",
       "       1773,  467,   55,  460,   83,    1, 2563,  135,   46,    1,    1,\n",
       "        808,  199,  672,  144, 2569, 2569,  530,    1, 2252, 4061,  284,\n",
       "         73,    2,    1,    6,    1,  533,  456,    2,   48,   14,   15,\n",
       "        147,   77, 1693,    1,    2, 1067,  430,  292, 1643,    1,  135,\n",
       "       1668, 3390,  147,   20,    1, 2431,  147,    4,    1,    1,    1,\n",
       "          1, 2909,   23,  397,    1,  264,   39, 4029,  112,    1,    1,\n",
       "        224,   66,   43,  841,    1, 3923,  134, 4335,    0,    0,    0,\n",
       "          0,    0,    0,    0,    0,    0,    0,    0,    0,    0,    0,\n",
       "          0,    0,    0,    0,    0,    0,    0,    0,    0,    0,    0,\n",
       "          0,    0,    0,    0,    0,    0,    0,    0,    0,    0,    0,\n",
       "          0,    0,    0,    0,    0,    0,    0,    0,    0,    0,    0,\n",
       "          0,    0,    0,    0,    0,    0,    0,    0,    0,    0,    0,\n",
       "          0,    0,    0,    0,    0,    0,    0,    0,    0,    0,    0,\n",
       "          0,    0,    0,    0,    0,    0,    0,    0,    0,    0,    0,\n",
       "          0,    0,    0,    0,    0,    0,    0,    0,    0,    0,    0,\n",
       "          0,    0,    0,    0,    0,    0,    0,    0,    0,    0,    0,\n",
       "          0,    0,    0,    0,    0,    0,    0,    0,    0,    0,    0,\n",
       "          0,    0,    0,    0,    0,    0,    0,    0,    0,    0,    0,\n",
       "          0,    0,    0,    0,    0,    0,    0,    0,    0,    0,    0,\n",
       "          0,    0,    0,    0,    0,    0,    0,    0,    0,    0,    0,\n",
       "          0,    0,    0,    0,    0,    0,    0,    0,    0,    0,    0,\n",
       "          0,    0,    0,    0,    0,    0,    0,    0,    0,    0,    0,\n",
       "          0,    0,    0,    0,    0,    0,    0,    0,    0,    0,    0,\n",
       "          0,    0,    0,    0,    0,    0,    0,    0,    0,    0,    0,\n",
       "          0,    0,    0,    0,    0,    0,    0,    0,    0,    0,    0,\n",
       "          0,    0,    0,    0,    0,    0,    0,    0,    0,    0,    0,\n",
       "          0,    0,    0,    0,    0,    0,    0,    0,    0,    0,    0,\n",
       "          0,    0,    0,    0,    0,    0,    0,    0,    0,    0,    0,\n",
       "          0,    0,    0,    0,    0,    0,    0,    0,    0,    0,    0,\n",
       "          0,    0,    0,    0,    0,    0,    0,    0,    0,    0,    0,\n",
       "          0,    0,    0,    0,    0,    0,    0,    0,    0,    0,    0,\n",
       "          0,    0,    0,    0,    0,    0,    0,    0,    0,    0,    0,\n",
       "          0,    0,    0,    0,    0,    0,    0,    0,    0,    0,    0,\n",
       "          0,    0,    0,    0,    0,    0,    0,    0,    0,    0,    0,\n",
       "          0,    0,    0,    0,    0,    0,    0,    0,    0,    0,    0,\n",
       "          0,    0,    0,    0,    0,    0,    0,    0,    0,    0,    0,\n",
       "          0,    0,    0,    0,    0,    0,    0,    0,    0,    0,    0,\n",
       "          0,    0,    0,    0,    0,    0,    0,    0,    0,    0,    0,\n",
       "          0,    0,    0,    0,    0,    0,    0,    0,    0,    0,    0,\n",
       "          0,    0,    0,    0,    0,    0,    0,    0,    0,    0,    0,\n",
       "          0,    0,    0,    0,    0,    0,    0,    0,    0,    0,    0,\n",
       "          0,    0,    0,    0,    0,    0,    0,    0,    0,    0,    0,\n",
       "          0,    0,    0,    0,    0])"
      ]
     },
     "execution_count": 31,
     "metadata": {},
     "output_type": "execute_result"
    }
   ],
   "source": [
    "# Use this cell to examine one of the processed reviews to make sure everything is working as intended.\n",
    "X_train[100]"
   ]
  },
  {
   "cell_type": "markdown",
   "metadata": {
    "id": "CckZdNmwXEJV"
   },
   "source": [
    "# Step 3: Upload the data to S3\n",
    "\n",
    "We will need to upload the training dataset to S3 in order for our training code to access it. For now we will save it locally and we will upload to S3 later on.\n",
    "\n"
   ]
  },
  {
   "cell_type": "markdown",
   "metadata": {
    "id": "QT_XpUxbXFz9"
   },
   "source": [
    "## Save the processed training dataset locally\n",
    "It is important to note the format of the data that we are saving as we will need to know it when we write the training code. In our case, each row of the dataset has the form `label`, `length`, `review[500]` where `review[500]` is a sequence of `500` integers representing the words in the review."
   ]
  },
  {
   "cell_type": "code",
   "execution_count": 32,
   "metadata": {
    "executionInfo": {
     "elapsed": 18154,
     "status": "ok",
     "timestamp": 1619442857576,
     "user": {
      "displayName": "Samuel Kurabachew",
      "photoUrl": "https://lh3.googleusercontent.com/a-/AOh14GgjInGOQPqywN0ccz8vK2eDHnlbX5X8DFW0uzk7=s64",
      "userId": "05644532802210368105"
     },
     "user_tz": -120
    },
    "id": "AL1KewK-XSCN"
   },
   "outputs": [],
   "source": [
    "import pandas as pd\n",
    "    \n",
    "pd.concat([pd.DataFrame(y_train), pd.DataFrame(X_train_len), pd.DataFrame(X_train)], axis=1) \\\n",
    "        .to_csv(os.path.join(data_dir, 'train.csv'), header=False, index=False)"
   ]
  },
  {
   "cell_type": "markdown",
   "metadata": {
    "id": "vtRBoZf_X5Xl"
   },
   "source": [
    "## Uploading the training data\n",
    "\n",
    "Next, we need to upload the training data to the SageMaker default S3 bucket so that we can provide access to it while training our model."
   ]
  },
  {
   "cell_type": "code",
   "execution_count": 33,
   "metadata": {
    "id": "YfI5treMX-iU"
   },
   "outputs": [],
   "source": [
    "import sagemaker\n",
    "\n",
    "sagemaker_session = sagemaker.Session()\n",
    "\n",
    "bucket = sagemaker_session.default_bucket()\n",
    "prefix = 'sagemaker/sentiment_rnn'\n",
    "\n",
    "role = sagemaker.get_execution_role()"
   ]
  },
  {
   "cell_type": "code",
   "execution_count": 34,
   "metadata": {
    "id": "hYyss8sUYBfK"
   },
   "outputs": [],
   "source": [
    "input_data = sagemaker_session.upload_data(path=data_dir, bucket=bucket, key_prefix=prefix)"
   ]
  },
  {
   "cell_type": "markdown",
   "metadata": {
    "id": "4qofDDfqYEqh"
   },
   "source": [
    "**NOTE**: The cell above uploads the entire contents of our data directory. This includes the word_dict.pkl file. This is fortunate as we will need this later on when we create an endpoint that accepts an arbitrary review. For now, we will just take note of the fact that it resides in the data directory (and so also in the S3 training bucket) and that we will need to make sure it gets saved in the model directory."
   ]
  },
  {
   "cell_type": "markdown",
   "metadata": {
    "id": "XRFQxmeNYNu4"
   },
   "source": [
    "# Step 4: Build and Train the PyTorch Model\n",
    "\n",
    "Our model is in the SageMaker framework comprises three objects\n",
    "\n",
    "- Model Artifacts,\n",
    "- Training Code, and\n",
    "- Inference Code,\n",
    "\n",
    "each of which interact with one another. We will be using training and inference code containers provided by Amazon with the added benefit of being able to include our own custom code.\n",
    "\n",
    "We will start by implementing our own neural network in PyTorch along with a training script. For the purposes of this project we have provided the necessary model object in the `model.py` file, inside of the train folder. You can see the provided implementation by running the cell below."
   ]
  },
  {
   "cell_type": "code",
   "execution_count": 35,
   "metadata": {
    "id": "ZW12rn_fYLbT"
   },
   "outputs": [
    {
     "name": "stdout",
     "output_type": "stream",
     "text": [
      "\u001b[34mimport\u001b[39;49;00m \u001b[04m\u001b[36mtorch\u001b[39;49;00m\u001b[04m\u001b[36m.\u001b[39;49;00m\u001b[04m\u001b[36mnn\u001b[39;49;00m \u001b[34mas\u001b[39;49;00m \u001b[04m\u001b[36mnn\u001b[39;49;00m\r\n",
      "\r\n",
      "\u001b[34mclass\u001b[39;49;00m \u001b[04m\u001b[32mLSTMClassifier\u001b[39;49;00m(nn.Module):\r\n",
      "    \u001b[33m\"\"\"\u001b[39;49;00m\r\n",
      "\u001b[33m    This is the simple RNN model we will be using to perform Sentiment Analysis.\u001b[39;49;00m\r\n",
      "\u001b[33m    \"\"\"\u001b[39;49;00m\r\n",
      "\r\n",
      "    \u001b[34mdef\u001b[39;49;00m \u001b[32m__init__\u001b[39;49;00m(\u001b[36mself\u001b[39;49;00m, embedding_dim, hidden_dim, vocab_size):\r\n",
      "        \u001b[33m\"\"\"\u001b[39;49;00m\r\n",
      "\u001b[33m        Initialize the model by settingg up the various layers.\u001b[39;49;00m\r\n",
      "\u001b[33m        \"\"\"\u001b[39;49;00m\r\n",
      "        \u001b[36msuper\u001b[39;49;00m(LSTMClassifier, \u001b[36mself\u001b[39;49;00m).\u001b[32m__init__\u001b[39;49;00m()\r\n",
      "\r\n",
      "        \u001b[36mself\u001b[39;49;00m.embedding = nn.Embedding(vocab_size, embedding_dim, padding_idx=\u001b[34m0\u001b[39;49;00m)\r\n",
      "        \u001b[36mself\u001b[39;49;00m.lstm = nn.LSTM(embedding_dim, hidden_dim)\r\n",
      "        \u001b[36mself\u001b[39;49;00m.dense = nn.Linear(in_features=hidden_dim, out_features=\u001b[34m1\u001b[39;49;00m)\r\n",
      "        \u001b[36mself\u001b[39;49;00m.sig = nn.Sigmoid()\r\n",
      "        \r\n",
      "        \u001b[36mself\u001b[39;49;00m.word_dict = \u001b[34mNone\u001b[39;49;00m\r\n",
      "\r\n",
      "    \u001b[34mdef\u001b[39;49;00m \u001b[32mforward\u001b[39;49;00m(\u001b[36mself\u001b[39;49;00m, x):\r\n",
      "        \u001b[33m\"\"\"\u001b[39;49;00m\r\n",
      "\u001b[33m        Perform a forward pass of our model on some input.\u001b[39;49;00m\r\n",
      "\u001b[33m        \"\"\"\u001b[39;49;00m\r\n",
      "        x = x.t()\r\n",
      "        lengths = x[\u001b[34m0\u001b[39;49;00m,:]\r\n",
      "        reviews = x[\u001b[34m1\u001b[39;49;00m:,:]\r\n",
      "        embeds = \u001b[36mself\u001b[39;49;00m.embedding(reviews)\r\n",
      "        lstm_out, _ = \u001b[36mself\u001b[39;49;00m.lstm(embeds)\r\n",
      "        out = \u001b[36mself\u001b[39;49;00m.dense(lstm_out)\r\n",
      "        out = out[lengths - \u001b[34m1\u001b[39;49;00m, \u001b[36mrange\u001b[39;49;00m(\u001b[36mlen\u001b[39;49;00m(lengths))]\r\n",
      "        \u001b[34mreturn\u001b[39;49;00m \u001b[36mself\u001b[39;49;00m.sig(out.squeeze())\r\n"
     ]
    }
   ],
   "source": [
    "!pygmentize train/model.py"
   ]
  },
  {
   "cell_type": "markdown",
   "metadata": {
    "id": "umnot3RhZHmO"
   },
   "source": [
    "The important takeaway from the implementation provided is that there are three parameters that we may wish to tweak to improve the performance of our model. These are the embedding dimension, the hidden dimension and the size of the vocabulary. We will likely want to make these parameters configurable in the training script so that if we wish to modify them we do not need to modify the script itself. We will see how to do this later on. To start we will write some of the training code in the notebook so that we can more easily diagnose any issues that arise.\n",
    "\n",
    "First we will load a small portion of the training data set to use as a sample. It would be very time consuming to try and train the model completely in the notebook as we do not have access to a gpu and the compute instance that we are using is not particularly powerful. However, we can work on a small bit of the data to get a feel for how our training script is behaving."
   ]
  },
  {
   "cell_type": "code",
   "execution_count": 36,
   "metadata": {
    "executionInfo": {
     "elapsed": 3485,
     "status": "ok",
     "timestamp": 1619442944694,
     "user": {
      "displayName": "Samuel Kurabachew",
      "photoUrl": "https://lh3.googleusercontent.com/a-/AOh14GgjInGOQPqywN0ccz8vK2eDHnlbX5X8DFW0uzk7=s64",
      "userId": "05644532802210368105"
     },
     "user_tz": -120
    },
    "id": "K0HmPnmPZWZb"
   },
   "outputs": [],
   "source": [
    "import torch\n",
    "import torch.utils.data\n",
    "\n",
    "# Read in only the first 250 rows\n",
    "train_sample = pd.read_csv(os.path.join(data_dir, 'train.csv'), header=None, names=None, nrows=250)\n",
    "\n",
    "# Turn the input pandas dataframe into tensors\n",
    "train_sample_y = torch.from_numpy(train_sample[[0]].values).float().squeeze()\n",
    "train_sample_X = torch.from_numpy(train_sample.drop([0], axis=1).values).long()\n",
    "\n",
    "# Build the dataset\n",
    "train_sample_ds = torch.utils.data.TensorDataset(train_sample_X, train_sample_y)\n",
    "# Build the dataloader\n",
    "train_sample_dl = torch.utils.data.DataLoader(train_sample_ds, batch_size=50)"
   ]
  },
  {
   "cell_type": "code",
   "execution_count": 37,
   "metadata": {
    "colab": {
     "base_uri": "https://localhost:8080/"
    },
    "executionInfo": {
     "elapsed": 653,
     "status": "ok",
     "timestamp": 1619442947747,
     "user": {
      "displayName": "Samuel Kurabachew",
      "photoUrl": "https://lh3.googleusercontent.com/a-/AOh14GgjInGOQPqywN0ccz8vK2eDHnlbX5X8DFW0uzk7=s64",
      "userId": "05644532802210368105"
     },
     "user_tz": -120
    },
    "id": "2FU9RrcMBxKj",
    "outputId": "b9b7ad72-04dd-44fd-ff91-d8bd12a8c78a"
   },
   "outputs": [
    {
     "data": {
      "text/plain": [
       "0      0\n",
       "1      0\n",
       "2      1\n",
       "3      1\n",
       "4      0\n",
       "      ..\n",
       "245    1\n",
       "246    0\n",
       "247    1\n",
       "248    0\n",
       "249    1\n",
       "Name: 0, Length: 250, dtype: int64"
      ]
     },
     "execution_count": 37,
     "metadata": {},
     "output_type": "execute_result"
    }
   ],
   "source": [
    "train_sample[0]"
   ]
  },
  {
   "cell_type": "markdown",
   "metadata": {
    "id": "oj7UrUbuZcJV"
   },
   "source": [
    "## Writing the training method\n",
    "\n",
    "Next we need to write the training code itself. We will be using Facebooks **Pytorch** model."
   ]
  },
  {
   "cell_type": "code",
   "execution_count": 38,
   "metadata": {
    "executionInfo": {
     "elapsed": 1052,
     "status": "ok",
     "timestamp": 1619442957930,
     "user": {
      "displayName": "Samuel Kurabachew",
      "photoUrl": "https://lh3.googleusercontent.com/a-/AOh14GgjInGOQPqywN0ccz8vK2eDHnlbX5X8DFW0uzk7=s64",
      "userId": "05644532802210368105"
     },
     "user_tz": -120
    },
    "id": "QUHtbS41Zq6z"
   },
   "outputs": [],
   "source": [
    "def train(model, train_loader, epochs, optimizer, loss_fn, device):\n",
    "    for epoch in range(1, epochs + 1):\n",
    "        model.train()\n",
    "        total_loss = 0\n",
    "        for batch in train_loader:         \n",
    "            batch_X, batch_y = batch\n",
    "            \n",
    "            batch_X = batch_X.to(device)\n",
    "            batch_y = batch_y.to(device)\n",
    "            \n",
    "            optimizer.zero_grad()\n",
    "            out = model.forward(batch_X)\n",
    "            loss = loss_fn(out, batch_y)\n",
    "            loss.backward()\n",
    "            optimizer.step()\n",
    "            \n",
    "            total_loss += loss.data.item()\n",
    "        print(\"Epoch: {}, BCELoss: {}\".format(epoch, total_loss / len(train_loader)))"
   ]
  },
  {
   "cell_type": "markdown",
   "metadata": {
    "id": "zgjVsd70Zyc4"
   },
   "source": [
    "Supposing we have the training method above, we will test that it is working by writing a bit of code in the notebook that executes our training method on the small sample training set that we loaded earlier. The reason for doing this in the notebook is so that we have an opportunity to fix any errors that arise early when they are easier to diagnose."
   ]
  },
  {
   "cell_type": "code",
   "execution_count": 39,
   "metadata": {
    "colab": {
     "base_uri": "https://localhost:8080/"
    },
    "executionInfo": {
     "elapsed": 25816,
     "status": "ok",
     "timestamp": 1619444530402,
     "user": {
      "displayName": "Samuel Kurabachew",
      "photoUrl": "https://lh3.googleusercontent.com/a-/AOh14GgjInGOQPqywN0ccz8vK2eDHnlbX5X8DFW0uzk7=s64",
      "userId": "05644532802210368105"
     },
     "user_tz": -120
    },
    "id": "l0KZfqmaZ4Ls",
    "outputId": "09f7abca-1ce0-45d0-a08b-261a8d3994cd"
   },
   "outputs": [
    {
     "name": "stdout",
     "output_type": "stream",
     "text": [
      "Using device cpu\n",
      "Epoch: 1, BCELoss: 0.6939353704452514\n",
      "Epoch: 2, BCELoss: 0.6867759466171265\n",
      "Epoch: 3, BCELoss: 0.6805546045303345\n",
      "Epoch: 4, BCELoss: 0.6729208827018738\n",
      "Epoch: 5, BCELoss: 0.6617103576660156\n"
     ]
    }
   ],
   "source": [
    "import torch.optim as optim\n",
    "from train.model import LSTMClassifier\n",
    "\n",
    "device = torch.device(\"cuda\" if torch.cuda.is_available() else \"cpu\")\n",
    "print(\"Using device {}\".format(device))\n",
    "model = LSTMClassifier(32, 100, 5000).to(device)\n",
    "optimizer = optim.Adam(model.parameters())\n",
    "loss_fn = torch.nn.BCELoss()\n",
    "\n",
    "train(model, train_sample_dl, 5, optimizer, loss_fn, device)"
   ]
  },
  {
   "cell_type": "markdown",
   "metadata": {
    "id": "ujNsfoVYZ-Hd"
   },
   "source": [
    "In order to construct a PyTorch model using SageMaker we must provide SageMaker with a training script. We may optionally include a directory which will be copied to the container and from which our training code will be run. When the training container is executed it will check the uploaded directory (if there is one) for a `requirements.txt` file and install any required Python libraries, after which the training script will be run."
   ]
  },
  {
   "cell_type": "markdown",
   "metadata": {
    "id": "lB4InNIAaIh-"
   },
   "source": [
    "## Training the model\n",
    "\n",
    "When a PyTorch model is constructed in SageMaker, an entry point must be specified. This is the Python file which will be executed when the model is trained. Inside of the train directory is a file called `train.py` which contains most of the necessary code to train our model.\n",
    "\n",
    "The way that SageMaker passes hyperparameters to the training script is by way of arguments. These arguments can then be parsed and used in the training script."
   ]
  },
  {
   "cell_type": "code",
   "execution_count": 47,
   "metadata": {
    "id": "x8RngbTnZ_x3"
   },
   "outputs": [],
   "source": [
    "from sagemaker.pytorch import PyTorch\n",
    "\n",
    "estimator = PyTorch(entry_point=\"train.py\",\n",
    "                    source_dir=\"train\",\n",
    "                    role=role,\n",
    "                    framework_version='1.0.0',\n",
    "                    py_version='py3',\n",
    "                    train_instance_count=1,\n",
    "                    train_instance_type='ml.p2.xlarge',\n",
    "                    hyperparameters={\n",
    "                        'epochs': 20,\n",
    "                        'hidden_dim': 100,\n",
    "                    })"
   ]
  },
  {
   "cell_type": "code",
   "execution_count": 48,
   "metadata": {
    "id": "gD0Js60ncJaf"
   },
   "outputs": [
    {
     "name": "stderr",
     "output_type": "stream",
     "text": [
      "'create_image_uri' will be deprecated in favor of 'ImageURIProvider' class in SageMaker Python SDK v2.\n",
      "'s3_input' class will be renamed to 'TrainingInput' in SageMaker Python SDK v2.\n",
      "'create_image_uri' will be deprecated in favor of 'ImageURIProvider' class in SageMaker Python SDK v2.\n"
     ]
    },
    {
     "name": "stdout",
     "output_type": "stream",
     "text": [
      "2021-05-05 15:49:08 Starting - Starting the training job...\n",
      "2021-05-05 15:49:10 Starting - Launching requested ML instances.........\n",
      "2021-05-05 15:50:39 Starting - Preparing the instances for training.........\n",
      "2021-05-05 15:52:25 Downloading - Downloading input data...\n",
      "2021-05-05 15:52:52 Training - Downloading the training image....\u001b[34mbash: cannot set terminal process group (-1): Inappropriate ioctl for device\u001b[0m\n",
      "\u001b[34mbash: no job control in this shell\u001b[0m\n",
      "\u001b[34m2021-05-05 15:53:42,652 sagemaker-containers INFO     Imported framework sagemaker_pytorch_container.training\u001b[0m\n",
      "\u001b[34m2021-05-05 15:53:42,681 sagemaker_pytorch_container.training INFO     Block until all host DNS lookups succeed.\u001b[0m\n",
      "\u001b[34m2021-05-05 15:53:42,683 sagemaker_pytorch_container.training INFO     Invoking user training script.\u001b[0m\n",
      "\n",
      "2021-05-05 15:53:41 Training - Training image download completed. Training in progress.\u001b[34m2021-05-05 15:54:05,791 sagemaker-containers INFO     Module train does not provide a setup.py. \u001b[0m\n",
      "\u001b[34mGenerating setup.py\u001b[0m\n",
      "\u001b[34m2021-05-05 15:54:05,791 sagemaker-containers INFO     Generating setup.cfg\u001b[0m\n",
      "\u001b[34m2021-05-05 15:54:05,792 sagemaker-containers INFO     Generating MANIFEST.in\u001b[0m\n",
      "\u001b[34m2021-05-05 15:54:05,792 sagemaker-containers INFO     Installing module with the following command:\u001b[0m\n",
      "\u001b[34m/usr/bin/python -m pip install -U . -r requirements.txt\u001b[0m\n",
      "\u001b[34mProcessing /opt/ml/code\u001b[0m\n",
      "\u001b[34mCollecting pandas (from -r requirements.txt (line 1))\n",
      "  Downloading https://files.pythonhosted.org/packages/c3/e2/00cacecafbab071c787019f00ad84ca3185952f6bb9bca9550ed83870d4d/pandas-1.1.5-cp36-cp36m-manylinux1_x86_64.whl (9.5MB)\u001b[0m\n",
      "\u001b[34mCollecting numpy (from -r requirements.txt (line 2))\u001b[0m\n",
      "\u001b[34m  Downloading https://files.pythonhosted.org/packages/45/b2/6c7545bb7a38754d63048c7696804a0d947328125d81bf12beaa692c3ae3/numpy-1.19.5-cp36-cp36m-manylinux1_x86_64.whl (13.4MB)\u001b[0m\n",
      "\u001b[34mCollecting nltk (from -r requirements.txt (line 3))\n",
      "  Downloading https://files.pythonhosted.org/packages/5e/37/9532ddd4b1bbb619333d5708aaad9bf1742f051a664c3c6fa6632a105fd8/nltk-3.6.2-py3-none-any.whl (1.5MB)\u001b[0m\n",
      "\u001b[34mCollecting html5lib (from -r requirements.txt (line 4))\n",
      "  Downloading https://files.pythonhosted.org/packages/6c/dd/a834df6482147d48e225a49515aabc28974ad5a4ca3215c18a882565b028/html5lib-1.1-py2.py3-none-any.whl (112kB)\u001b[0m\n",
      "\u001b[34mRequirement already satisfied, skipping upgrade: pytz>=2017.2 in /usr/local/lib/python3.6/dist-packages (from pandas->-r requirements.txt (line 1)) (2019.1)\u001b[0m\n",
      "\u001b[34mRequirement already satisfied, skipping upgrade: python-dateutil>=2.7.3 in /usr/local/lib/python3.6/dist-packages (from pandas->-r requirements.txt (line 1)) (2.8.0)\u001b[0m\n",
      "\u001b[34mCollecting regex (from nltk->-r requirements.txt (line 3))\u001b[0m\n",
      "\u001b[34m  Downloading https://files.pythonhosted.org/packages/12/29/56cc6b5fa9abe7431b1c39c84dd57ebee42b2e2c1cb784219288d9636ffe/regex-2021.4.4-cp36-cp36m-manylinux1_x86_64.whl (664kB)\u001b[0m\n",
      "\u001b[34mRequirement already satisfied, skipping upgrade: click in /usr/local/lib/python3.6/dist-packages (from nltk->-r requirements.txt (line 3)) (7.0)\u001b[0m\n",
      "\u001b[34mCollecting joblib (from nltk->-r requirements.txt (line 3))\n",
      "  Downloading https://files.pythonhosted.org/packages/55/85/70c6602b078bd9e6f3da4f467047e906525c355a4dacd4f71b97a35d9897/joblib-1.0.1-py3-none-any.whl (303kB)\u001b[0m\n",
      "\u001b[34mRequirement already satisfied, skipping upgrade: tqdm in /usr/local/lib/python3.6/dist-packages (from nltk->-r requirements.txt (line 3)) (4.32.1)\u001b[0m\n",
      "\u001b[34mRequirement already satisfied, skipping upgrade: six>=1.9 in /usr/local/lib/python3.6/dist-packages (from html5lib->-r requirements.txt (line 4)) (1.12.0)\u001b[0m\n",
      "\u001b[34mCollecting webencodings (from html5lib->-r requirements.txt (line 4))\n",
      "  Downloading https://files.pythonhosted.org/packages/f4/24/2a3e3df732393fed8b3ebf2ec078f05546de641fe1b667ee316ec1dcf3b7/webencodings-0.5.1-py2.py3-none-any.whl\u001b[0m\n",
      "\u001b[34mBuilding wheels for collected packages: train\n",
      "  Running setup.py bdist_wheel for train: started\u001b[0m\n",
      "\u001b[34m  Running setup.py bdist_wheel for train: finished with status 'done'\n",
      "  Stored in directory: /tmp/pip-ephem-wheel-cache-z1z2l0mm/wheels/35/24/16/37574d11bf9bde50616c67372a334f94fa8356bc7164af8ca3\u001b[0m\n",
      "\u001b[34mSuccessfully built train\u001b[0m\n",
      "\u001b[34mInstalling collected packages: numpy, pandas, regex, joblib, nltk, webencodings, html5lib, train\n",
      "  Found existing installation: numpy 1.16.4\n",
      "    Uninstalling numpy-1.16.4:\u001b[0m\n",
      "\u001b[34m      Successfully uninstalled numpy-1.16.4\u001b[0m\n",
      "\u001b[34m  Found existing installation: pandas 0.24.2\n",
      "    Uninstalling pandas-0.24.2:\u001b[0m\n",
      "\u001b[34m      Successfully uninstalled pandas-0.24.2\u001b[0m\n",
      "\u001b[34mSuccessfully installed html5lib-1.1 joblib-1.0.1 nltk-3.6.2 numpy-1.19.5 pandas-1.1.5 regex-2021.4.4 train-1.0.0 webencodings-0.5.1\u001b[0m\n",
      "\u001b[34mYou are using pip version 18.1, however version 21.1.1 is available.\u001b[0m\n",
      "\u001b[34mYou should consider upgrading via the 'pip install --upgrade pip' command.\u001b[0m\n",
      "\u001b[34m2021-05-05 15:54:21,395 sagemaker-containers INFO     Invoking user script\n",
      "\u001b[0m\n",
      "\u001b[34mTraining Env:\n",
      "\u001b[0m\n",
      "\u001b[34m{\n",
      "    \"additional_framework_parameters\": {},\n",
      "    \"channel_input_dirs\": {\n",
      "        \"training\": \"/opt/ml/input/data/training\"\n",
      "    },\n",
      "    \"current_host\": \"algo-1\",\n",
      "    \"framework_module\": \"sagemaker_pytorch_container.training:main\",\n",
      "    \"hosts\": [\n",
      "        \"algo-1\"\n",
      "    ],\n",
      "    \"hyperparameters\": {\n",
      "        \"hidden_dim\": 100,\n",
      "        \"epochs\": 20\n",
      "    },\n",
      "    \"input_config_dir\": \"/opt/ml/input/config\",\n",
      "    \"input_data_config\": {\n",
      "        \"training\": {\n",
      "            \"TrainingInputMode\": \"File\",\n",
      "            \"S3DistributionType\": \"FullyReplicated\",\n",
      "            \"RecordWrapperType\": \"None\"\n",
      "        }\n",
      "    },\n",
      "    \"input_dir\": \"/opt/ml/input\",\n",
      "    \"is_master\": true,\n",
      "    \"job_name\": \"sagemaker-pytorch-2021-05-05-15-49-07-730\",\n",
      "    \"log_level\": 20,\n",
      "    \"master_hostname\": \"algo-1\",\n",
      "    \"model_dir\": \"/opt/ml/model\",\n",
      "    \"module_dir\": \"s3://sagemaker-us-east-1-595477639944/sagemaker-pytorch-2021-05-05-15-49-07-730/source/sourcedir.tar.gz\",\n",
      "    \"module_name\": \"train\",\n",
      "    \"network_interface_name\": \"eth0\",\n",
      "    \"num_cpus\": 4,\n",
      "    \"num_gpus\": 1,\n",
      "    \"output_data_dir\": \"/opt/ml/output/data\",\n",
      "    \"output_dir\": \"/opt/ml/output\",\n",
      "    \"output_intermediate_dir\": \"/opt/ml/output/intermediate\",\n",
      "    \"resource_config\": {\n",
      "        \"current_host\": \"algo-1\",\n",
      "        \"hosts\": [\n",
      "            \"algo-1\"\n",
      "        ],\n",
      "        \"network_interface_name\": \"eth0\"\n",
      "    },\n",
      "    \"user_entry_point\": \"train.py\"\u001b[0m\n",
      "\u001b[34m}\n",
      "\u001b[0m\n",
      "\u001b[34mEnvironment variables:\n",
      "\u001b[0m\n",
      "\u001b[34mSM_HOSTS=[\"algo-1\"]\u001b[0m\n",
      "\u001b[34mSM_NETWORK_INTERFACE_NAME=eth0\u001b[0m\n",
      "\u001b[34mSM_HPS={\"epochs\":20,\"hidden_dim\":100}\u001b[0m\n",
      "\u001b[34mSM_USER_ENTRY_POINT=train.py\u001b[0m\n",
      "\u001b[34mSM_FRAMEWORK_PARAMS={}\u001b[0m\n",
      "\u001b[34mSM_RESOURCE_CONFIG={\"current_host\":\"algo-1\",\"hosts\":[\"algo-1\"],\"network_interface_name\":\"eth0\"}\u001b[0m\n",
      "\u001b[34mSM_INPUT_DATA_CONFIG={\"training\":{\"RecordWrapperType\":\"None\",\"S3DistributionType\":\"FullyReplicated\",\"TrainingInputMode\":\"File\"}}\u001b[0m\n",
      "\u001b[34mSM_OUTPUT_DATA_DIR=/opt/ml/output/data\u001b[0m\n",
      "\u001b[34mSM_CHANNELS=[\"training\"]\u001b[0m\n",
      "\u001b[34mSM_CURRENT_HOST=algo-1\u001b[0m\n",
      "\u001b[34mSM_MODULE_NAME=train\u001b[0m\n",
      "\u001b[34mSM_LOG_LEVEL=20\u001b[0m\n",
      "\u001b[34mSM_FRAMEWORK_MODULE=sagemaker_pytorch_container.training:main\u001b[0m\n",
      "\u001b[34mSM_INPUT_DIR=/opt/ml/input\u001b[0m\n",
      "\u001b[34mSM_INPUT_CONFIG_DIR=/opt/ml/input/config\u001b[0m\n",
      "\u001b[34mSM_OUTPUT_DIR=/opt/ml/output\u001b[0m\n",
      "\u001b[34mSM_NUM_CPUS=4\u001b[0m\n",
      "\u001b[34mSM_NUM_GPUS=1\u001b[0m\n",
      "\u001b[34mSM_MODEL_DIR=/opt/ml/model\u001b[0m\n",
      "\u001b[34mSM_MODULE_DIR=s3://sagemaker-us-east-1-595477639944/sagemaker-pytorch-2021-05-05-15-49-07-730/source/sourcedir.tar.gz\u001b[0m\n",
      "\u001b[34mSM_TRAINING_ENV={\"additional_framework_parameters\":{},\"channel_input_dirs\":{\"training\":\"/opt/ml/input/data/training\"},\"current_host\":\"algo-1\",\"framework_module\":\"sagemaker_pytorch_container.training:main\",\"hosts\":[\"algo-1\"],\"hyperparameters\":{\"epochs\":20,\"hidden_dim\":100},\"input_config_dir\":\"/opt/ml/input/config\",\"input_data_config\":{\"training\":{\"RecordWrapperType\":\"None\",\"S3DistributionType\":\"FullyReplicated\",\"TrainingInputMode\":\"File\"}},\"input_dir\":\"/opt/ml/input\",\"is_master\":true,\"job_name\":\"sagemaker-pytorch-2021-05-05-15-49-07-730\",\"log_level\":20,\"master_hostname\":\"algo-1\",\"model_dir\":\"/opt/ml/model\",\"module_dir\":\"s3://sagemaker-us-east-1-595477639944/sagemaker-pytorch-2021-05-05-15-49-07-730/source/sourcedir.tar.gz\",\"module_name\":\"train\",\"network_interface_name\":\"eth0\",\"num_cpus\":4,\"num_gpus\":1,\"output_data_dir\":\"/opt/ml/output/data\",\"output_dir\":\"/opt/ml/output\",\"output_intermediate_dir\":\"/opt/ml/output/intermediate\",\"resource_config\":{\"current_host\":\"algo-1\",\"hosts\":[\"algo-1\"],\"network_interface_name\":\"eth0\"},\"user_entry_point\":\"train.py\"}\u001b[0m\n",
      "\u001b[34mSM_USER_ARGS=[\"--epochs\",\"20\",\"--hidden_dim\",\"100\"]\u001b[0m\n",
      "\u001b[34mSM_OUTPUT_INTERMEDIATE_DIR=/opt/ml/output/intermediate\u001b[0m\n",
      "\u001b[34mSM_CHANNEL_TRAINING=/opt/ml/input/data/training\u001b[0m\n",
      "\u001b[34mSM_HP_HIDDEN_DIM=100\u001b[0m\n",
      "\u001b[34mSM_HP_EPOCHS=20\u001b[0m\n",
      "\u001b[34mPYTHONPATH=/usr/local/bin:/usr/lib/python36.zip:/usr/lib/python3.6:/usr/lib/python3.6/lib-dynload:/usr/local/lib/python3.6/dist-packages:/usr/lib/python3/dist-packages\n",
      "\u001b[0m\n",
      "\u001b[34mInvoking script with the following command:\n",
      "\u001b[0m\n",
      "\u001b[34m/usr/bin/python -m train --epochs 20 --hidden_dim 100\n",
      "\n",
      "\u001b[0m\n",
      "\u001b[34mUsing device cuda.\u001b[0m\n",
      "\u001b[34mGet train data loader.\u001b[0m\n"
     ]
    },
    {
     "name": "stdout",
     "output_type": "stream",
     "text": [
      "\u001b[34mModel loaded with embedding_dim 32, hidden_dim 100, vocab_size 5000.\u001b[0m\n",
      "\u001b[34mEpoch: 1, BCELoss: 0.6917371319505734\u001b[0m\n",
      "\u001b[34mEpoch: 2, BCELoss: 0.6883836622817067\u001b[0m\n",
      "\u001b[34mEpoch: 3, BCELoss: 0.6877211250436192\u001b[0m\n",
      "\u001b[34mEpoch: 4, BCELoss: 0.6849505537615036\u001b[0m\n",
      "\u001b[34mEpoch: 5, BCELoss: 0.685792413953775\u001b[0m\n",
      "\u001b[34mEpoch: 6, BCELoss: 0.6680911802255307\u001b[0m\n",
      "\u001b[34mEpoch: 7, BCELoss: 0.6849544648164377\u001b[0m\n",
      "\u001b[34mEpoch: 8, BCELoss: 0.6690508031997436\u001b[0m\n",
      "\u001b[34mEpoch: 9, BCELoss: 0.6555844712942934\u001b[0m\n",
      "\u001b[34mEpoch: 10, BCELoss: 0.6740759030317727\u001b[0m\n",
      "\u001b[34mEpoch: 11, BCELoss: 0.6747348605634306\u001b[0m\n",
      "\u001b[34mEpoch: 12, BCELoss: 0.6479934528232002\u001b[0m\n",
      "\u001b[34mEpoch: 13, BCELoss: 0.6255756268105187\u001b[0m\n",
      "\u001b[34mEpoch: 14, BCELoss: 0.603450575575661\u001b[0m\n",
      "\u001b[34mEpoch: 15, BCELoss: 0.587893191998759\u001b[0m\n",
      "\u001b[34mEpoch: 16, BCELoss: 0.5779725935893317\u001b[0m\n",
      "\u001b[34mEpoch: 17, BCELoss: 0.5712389826012877\u001b[0m\n",
      "\u001b[34mEpoch: 18, BCELoss: 0.5660143157544608\u001b[0m\n",
      "\u001b[34mEpoch: 19, BCELoss: 0.560884275756324\u001b[0m\n",
      "\u001b[34mEpoch: 20, BCELoss: 0.5560147640423272\u001b[0m\n",
      "\u001b[34m2021-05-05 16:13:28,145 sagemaker-containers INFO     Reporting training SUCCESS\u001b[0m\n",
      "\n",
      "2021-05-05 16:14:28 Uploading - Uploading generated training model\n",
      "2021-05-05 16:14:35 Completed - Training job completed\n",
      "Training seconds: 1330\n",
      "Billable seconds: 1330\n"
     ]
    }
   ],
   "source": [
    "estimator.fit({'training': input_data})"
   ]
  },
  {
   "cell_type": "markdown",
   "metadata": {
    "id": "_Jiri6EacM6f"
   },
   "source": [
    "# Step 5: Testing the model\n",
    "As mentioned at the top of this notebook, we will be testing this model by first deploying it and then sending the testing data to the deployed endpoint. We will do this so that we can make sure that the deployed model is working correctly.\n",
    "\n",
    "# Step 6: Deploy the model for testing\n",
    "\n",
    "Now that we have trained our model, we would like to test it to see how it performs. Currently our model takes input of the form `review_length`, `review[500]` where `review[500]` is a sequence of `500` integers which describe the words present in the review, encoded using word_dict. Fortunately for us, SageMaker provides built-in inference code for models with simple inputs such as this.\n",
    "\n",
    "There is one thing that we need to provide, however, and that is a function which loads the saved model. This function must be called model_fn() and takes as its only parameter a path to the directory where the model artifacts are stored. This function must also be present in the python file which we specified as the entry point. \n",
    "\n",
    "\n",
    "**NOTE**: When deploying a model you are asking SageMaker to launch an compute instance that will wait for data to be sent to it. As a result, this compute instance will continue to run until you shut it down. This is important to know since the cost of a deployed endpoint depends on how long it has been running for.\n"
   ]
  },
  {
   "cell_type": "code",
   "execution_count": 49,
   "metadata": {
    "id": "mPrNfASSjk8K"
   },
   "outputs": [
    {
     "name": "stderr",
     "output_type": "stream",
     "text": [
      "Parameter image will be renamed to image_uri in SageMaker Python SDK v2.\n",
      "'create_image_uri' will be deprecated in favor of 'ImageURIProvider' class in SageMaker Python SDK v2.\n"
     ]
    },
    {
     "name": "stdout",
     "output_type": "stream",
     "text": [
      "-------------!"
     ]
    }
   ],
   "source": [
    "# Deploy the trained model\n",
    "predictor = estimator.deploy(initial_instance_count=1, instance_type='ml.m5.xlarge')"
   ]
  },
  {
   "cell_type": "markdown",
   "metadata": {
    "id": "_1bl8DErjsVc"
   },
   "source": [
    "# Step 7 - Use the model for testing\n",
    "\n",
    "Once deployed, we can read in the test data and send it off to our deployed model to get some results. Once we collect all of the results we can determine how accurate our model is."
   ]
  },
  {
   "cell_type": "code",
   "execution_count": 50,
   "metadata": {
    "executionInfo": {
     "elapsed": 931,
     "status": "ok",
     "timestamp": 1619444589844,
     "user": {
      "displayName": "Samuel Kurabachew",
      "photoUrl": "https://lh3.googleusercontent.com/a-/AOh14GgjInGOQPqywN0ccz8vK2eDHnlbX5X8DFW0uzk7=s64",
      "userId": "05644532802210368105"
     },
     "user_tz": -120
    },
    "id": "dO6JkPZjjySV"
   },
   "outputs": [],
   "source": [
    "X_test = pd.concat([pd.DataFrame(X_test_len), pd.DataFrame(X_test)], axis=1)"
   ]
  },
  {
   "cell_type": "code",
   "execution_count": 51,
   "metadata": {
    "executionInfo": {
     "elapsed": 452,
     "status": "ok",
     "timestamp": 1619444592195,
     "user": {
      "displayName": "Samuel Kurabachew",
      "photoUrl": "https://lh3.googleusercontent.com/a-/AOh14GgjInGOQPqywN0ccz8vK2eDHnlbX5X8DFW0uzk7=s64",
      "userId": "05644532802210368105"
     },
     "user_tz": -120
    },
    "id": "qJix9Syuj0LA"
   },
   "outputs": [],
   "source": [
    "# We split the data into chunks and send each chunk seperately, accumulating the results.\n",
    "\n",
    "def predict(data, rows=512):\n",
    "    split_array = np.array_split(data, int(data.shape[0] / float(rows) + 1))\n",
    "    predictions = np.array([])\n",
    "    for array in split_array:\n",
    "        predictions = np.append(predictions, predictor.predict(array))\n",
    "    \n",
    "    return predictions"
   ]
  },
  {
   "cell_type": "code",
   "execution_count": 52,
   "metadata": {
    "colab": {
     "base_uri": "https://localhost:8080/",
     "height": 300
    },
    "executionInfo": {
     "elapsed": 765,
     "status": "error",
     "timestamp": 1619444603191,
     "user": {
      "displayName": "Samuel Kurabachew",
      "photoUrl": "https://lh3.googleusercontent.com/a-/AOh14GgjInGOQPqywN0ccz8vK2eDHnlbX5X8DFW0uzk7=s64",
      "userId": "05644532802210368105"
     },
     "user_tz": -120
    },
    "id": "31lDJYl7j2C5",
    "outputId": "0e031965-a027-49fe-fa8e-795b76b1db51"
   },
   "outputs": [],
   "source": [
    "predictions = predict(X_test.values)\n",
    "predictions = [round(num) for num in predictions]"
   ]
  },
  {
   "cell_type": "code",
   "execution_count": 53,
   "metadata": {
    "id": "MH-qZTL6j3lp"
   },
   "outputs": [
    {
     "data": {
      "text/plain": [
       "0.68375"
      ]
     },
     "execution_count": 53,
     "metadata": {},
     "output_type": "execute_result"
    }
   ],
   "source": [
    "from sklearn.metrics import accuracy_score\n",
    "accuracy_score(y_test, predictions)"
   ]
  },
  {
   "cell_type": "markdown",
   "metadata": {},
   "source": [
    "Our accuracy is a little bit low compared to the traditional ML models we used before. But this could be improved if we trained for more epoches. For now we will leave it as it is and continue with our test with the trained model. Once everything is OK we can retrain given that we won't be ending up with a higher bill."
   ]
  },
  {
   "cell_type": "markdown",
   "metadata": {
    "id": "rlHLWqa8j9uD"
   },
   "source": [
    "## More testing\n",
    "We now have a trained model which has been deployed and which we can send processed reviews to and which returns the predicted sentiment. However, ultimately we would like to be able to send our model an unprocessed review. That is, we would like to send the review itself as a string. \n",
    "\n",
    "The question we now need to answer is, how do we send this review to our model?\n",
    "\n",
    "Recall in the first section of this notebook we did a bunch of data processing to the IMDb dataset. In particular, we did a specific things to the provided reviews, which is encoding the review as a sequence of integers using `word_dict`. In order process the review we will need to repeat these step.\n",
    "\n"
   ]
  },
  {
   "cell_type": "markdown",
   "metadata": {},
   "source": [
    "We will be taking one of the reviews that the model didn't train on from our dataset."
   ]
  },
  {
   "cell_type": "code",
   "execution_count": 54,
   "metadata": {
    "id": "SS7GhVNFkZxm"
   },
   "outputs": [],
   "source": [
    "test_review = \"I see that this movie came out in 1999, but I don't remember it coming out on the big screens? I bought the DVD on Amazon and loved the movie, I guess because I am a huge William Fichtner fan. The movie is different in a way because it has three separate stories, involving four different character's from the movie. Even though there are three separate stories of the individual's it all connect's in the end. In the first story we have a Ronnin who is short on rent money and if she doesn't come up with something to make a quick money will be thrown out of her apartment. She hooks up with a drug dealer, she scores the cash, but D***S him over. When he finds out he shows up at a rave where she's at, he finds he and confronts her. Her story ends when she accidentally gets hit by a car.The next story is about Simion the British guy, who gets to go with his friends to Las Vegas. All is going well with his buds, until, he and Taye Diggs character decide to go to a strip club called The Crazy Horse.. Taye Digg's character warned him order anything U want except Champaign-means private dance.When the ladies come over to greet them Simon gets stupid and asks for the most expensive bottle of Champaign. Simon gets his private dance and more than he bargained for. The rules the girls can touch U but U can't touch the girls. The rule gets broken, things get out of hand and Simon pulls out a gun and shoots a bouncer. When this happens the whole gang gets involved and are trying to get the hell out of Vegas, because they are wanted. This was an OK story, but in reality very unrealistic.The third about Adam and Zack is the best, it's about to actor's who are used as pawns to catch a drug dealer in the act of selling. Adam and Zack go along with it because an offense will be expunged from their record if all goes as planned. They met up with Burke, a cop or ex-cop who still has connections to the department. We then realize the 1st and 3rd stories come together, in the end. Then the 2nd story ties in with some of the characters in the 1st story.I hope this review is helpful, it is hard to explain a movie like this. To me it is a good movie, to rent, or one to buy if the price is right. The only drawback it might have is yes it is unrealistic, but most movies are. This movie is one to watch when U had a hard day/busy one and just want to chill 4 about 2 hours.It does have it's comedic side to it, but for those that do not like several stories told in one movie, even though they all connect in the end; this would not be for you. THX, -Kris L. CocKayne\""
   ]
  },
  {
   "cell_type": "code",
   "execution_count": 55,
   "metadata": {
    "id": "Xm6Mb2bwkXuS"
   },
   "outputs": [],
   "source": [
    "# Convert test_review into a form usable by the model and save the results in test_data\n",
    "test_data = review_to_words(test_review)\n",
    "test_data = [np.array(convert_and_pad(word_dict, test_data)[0])]"
   ]
  },
  {
   "cell_type": "markdown",
   "metadata": {
    "id": "BRaM4DaIke8P"
   },
   "source": [
    "Now that we have processed the review, we can send the resulting array to our model to predict the sentiment of the review."
   ]
  },
  {
   "cell_type": "code",
   "execution_count": 56,
   "metadata": {
    "id": "LiXUn4TskgaR"
   },
   "outputs": [
    {
     "data": {
      "text/plain": [
       "array(0.1940709, dtype=float32)"
      ]
     },
     "execution_count": 56,
     "metadata": {},
     "output_type": "execute_result"
    }
   ],
   "source": [
    "predictor.predict(test_data)"
   ]
  },
  {
   "cell_type": "markdown",
   "metadata": {
    "id": "JyuOJJyLkipm"
   },
   "source": [
    "Since the return value of our model is close to 0, our model is infering the inpute is not a spoiler eventhough it is. This shows why our model still needs training. Let's leave this as is and continue with our work."
   ]
  },
  {
   "cell_type": "markdown",
   "metadata": {},
   "source": [
    "**NOTE**: Inorder not to end up with high bill we're gonna stop our endpoint now."
   ]
  },
  {
   "cell_type": "code",
   "execution_count": 57,
   "metadata": {
    "scrolled": true
   },
   "outputs": [
    {
     "name": "stderr",
     "output_type": "stream",
     "text": [
      "estimator.delete_endpoint() will be deprecated in SageMaker Python SDK v2. Please use the delete_endpoint() function on your predictor instead.\n"
     ]
    }
   ],
   "source": [
    "estimator.delete_endpoint()"
   ]
  },
  {
   "cell_type": "markdown",
   "metadata": {
    "id": "jlF2Gzp8knF9"
   },
   "source": [
    "# Step 6 - Deploy the model for the web app\n",
    "\n",
    "Now that we know that our model is working, it's time to create some custom inference code so that we can send the model a review which has not been processed and have it determine the sentiment of the review.\n",
    "\n",
    "As we saw above, by default the estimator which we created, when deployed, will use the entry script and directory which we provided when creating the model. However, since we now wish to accept a string as input and our model expects a processed review, we need to write some custom inference code.\n",
    "\n",
    "We will store the code that we write in the `serve` directory. Provided in this directory is the `model.py` file that we used to construct our model, a `utils.py` file which contains the `review_to_words` and `convert_and_pad` pre-processing functions which we used during the initial data processing, and `predict.py`, the file which will contain our custom inference code. Note also that `requirements.txt` is present which will tell SageMaker what Python libraries are required by our custom inference code.\n",
    "\n",
    "When deploying a PyTorch model in SageMaker, you are expected to provide four functions which the SageMaker inference container will use.\n",
    "\n",
    "- `model_fn`: This function is the same function that we used in the training script and it tells SageMaker how to load our model.\n",
    "- `input_fn`: This function receives the raw serialized input that has been sent to the model's endpoint and its job is to de-serialize and make the input available for the inference code.\n",
    "- `output_fn`: This function takes the output of the inference code and its job is to serialize this output and return it to the caller of the model's endpoint.\n",
    "- `predict_fn`: The heart of the inference script, this is where the actual prediction is done and is the function which you will need to complete.\n",
    "\n",
    "For the simple website that we are constructing during this project, the `input_fn` and `output_fn` methods are relatively straightforward. We only require being able to accept a string as input and we expect to return a single value as output. You might imagine though that in a more complex application the input or output may be image data or some other binary data which would require some effort to serialize."
   ]
  },
  {
   "cell_type": "markdown",
   "metadata": {
    "id": "HIn1i61ulc-f"
   },
   "source": [
    "## Writing inference code\n",
    "\n",
    "We have written the inference code and save it into the serve directory. We can see the content of the file here."
   ]
  },
  {
   "cell_type": "code",
   "execution_count": 58,
   "metadata": {
    "id": "r_JyH5cil6Ia"
   },
   "outputs": [
    {
     "name": "stdout",
     "output_type": "stream",
     "text": [
      "\u001b[34mimport\u001b[39;49;00m \u001b[04m\u001b[36margparse\u001b[39;49;00m\r\n",
      "\u001b[34mimport\u001b[39;49;00m \u001b[04m\u001b[36mjson\u001b[39;49;00m\r\n",
      "\u001b[34mimport\u001b[39;49;00m \u001b[04m\u001b[36mos\u001b[39;49;00m\r\n",
      "\u001b[34mimport\u001b[39;49;00m \u001b[04m\u001b[36mpickle\u001b[39;49;00m\r\n",
      "\u001b[34mimport\u001b[39;49;00m \u001b[04m\u001b[36msys\u001b[39;49;00m\r\n",
      "\u001b[34mimport\u001b[39;49;00m \u001b[04m\u001b[36msagemaker_containers\u001b[39;49;00m\r\n",
      "\u001b[34mimport\u001b[39;49;00m \u001b[04m\u001b[36mpandas\u001b[39;49;00m \u001b[34mas\u001b[39;49;00m \u001b[04m\u001b[36mpd\u001b[39;49;00m\r\n",
      "\u001b[34mimport\u001b[39;49;00m \u001b[04m\u001b[36mnumpy\u001b[39;49;00m \u001b[34mas\u001b[39;49;00m \u001b[04m\u001b[36mnp\u001b[39;49;00m\r\n",
      "\u001b[34mimport\u001b[39;49;00m \u001b[04m\u001b[36mtorch\u001b[39;49;00m\r\n",
      "\u001b[34mimport\u001b[39;49;00m \u001b[04m\u001b[36mtorch\u001b[39;49;00m\u001b[04m\u001b[36m.\u001b[39;49;00m\u001b[04m\u001b[36mnn\u001b[39;49;00m \u001b[34mas\u001b[39;49;00m \u001b[04m\u001b[36mnn\u001b[39;49;00m\r\n",
      "\u001b[34mimport\u001b[39;49;00m \u001b[04m\u001b[36mtorch\u001b[39;49;00m\u001b[04m\u001b[36m.\u001b[39;49;00m\u001b[04m\u001b[36moptim\u001b[39;49;00m \u001b[34mas\u001b[39;49;00m \u001b[04m\u001b[36moptim\u001b[39;49;00m\r\n",
      "\u001b[34mimport\u001b[39;49;00m \u001b[04m\u001b[36mtorch\u001b[39;49;00m\u001b[04m\u001b[36m.\u001b[39;49;00m\u001b[04m\u001b[36mutils\u001b[39;49;00m\u001b[04m\u001b[36m.\u001b[39;49;00m\u001b[04m\u001b[36mdata\u001b[39;49;00m\r\n",
      "\r\n",
      "\u001b[34mfrom\u001b[39;49;00m \u001b[04m\u001b[36mmodel\u001b[39;49;00m \u001b[34mimport\u001b[39;49;00m LSTMClassifier\r\n",
      "\r\n",
      "\u001b[34mfrom\u001b[39;49;00m \u001b[04m\u001b[36mutils\u001b[39;49;00m \u001b[34mimport\u001b[39;49;00m review_to_words, convert_and_pad\r\n",
      "\r\n",
      "\u001b[34mdef\u001b[39;49;00m \u001b[32mmodel_fn\u001b[39;49;00m(model_dir):\r\n",
      "    \u001b[33m\"\"\"Load the PyTorch model from the `model_dir` directory.\"\"\"\u001b[39;49;00m\r\n",
      "    \u001b[36mprint\u001b[39;49;00m(\u001b[33m\"\u001b[39;49;00m\u001b[33mLoading model.\u001b[39;49;00m\u001b[33m\"\u001b[39;49;00m)\r\n",
      "\r\n",
      "    \u001b[37m# First, load the parameters used to create the model.\u001b[39;49;00m\r\n",
      "    model_info = {}\r\n",
      "    model_info_path = os.path.join(model_dir, \u001b[33m'\u001b[39;49;00m\u001b[33mmodel_info.pth\u001b[39;49;00m\u001b[33m'\u001b[39;49;00m)\r\n",
      "    \u001b[34mwith\u001b[39;49;00m \u001b[36mopen\u001b[39;49;00m(model_info_path, \u001b[33m'\u001b[39;49;00m\u001b[33mrb\u001b[39;49;00m\u001b[33m'\u001b[39;49;00m) \u001b[34mas\u001b[39;49;00m f:\r\n",
      "        model_info = torch.load(f)\r\n",
      "\r\n",
      "    \u001b[36mprint\u001b[39;49;00m(\u001b[33m\"\u001b[39;49;00m\u001b[33mmodel_info: \u001b[39;49;00m\u001b[33m{}\u001b[39;49;00m\u001b[33m\"\u001b[39;49;00m.format(model_info))\r\n",
      "\r\n",
      "    \u001b[37m# Determine the device and construct the model.\u001b[39;49;00m\r\n",
      "    device = torch.device(\u001b[33m\"\u001b[39;49;00m\u001b[33mcuda\u001b[39;49;00m\u001b[33m\"\u001b[39;49;00m \u001b[34mif\u001b[39;49;00m torch.cuda.is_available() \u001b[34melse\u001b[39;49;00m \u001b[33m\"\u001b[39;49;00m\u001b[33mcpu\u001b[39;49;00m\u001b[33m\"\u001b[39;49;00m)\r\n",
      "    model = LSTMClassifier(model_info[\u001b[33m'\u001b[39;49;00m\u001b[33membedding_dim\u001b[39;49;00m\u001b[33m'\u001b[39;49;00m], model_info[\u001b[33m'\u001b[39;49;00m\u001b[33mhidden_dim\u001b[39;49;00m\u001b[33m'\u001b[39;49;00m], model_info[\u001b[33m'\u001b[39;49;00m\u001b[33mvocab_size\u001b[39;49;00m\u001b[33m'\u001b[39;49;00m])\r\n",
      "\r\n",
      "    \u001b[37m# Load the store model parameters.\u001b[39;49;00m\r\n",
      "    model_path = os.path.join(model_dir, \u001b[33m'\u001b[39;49;00m\u001b[33mmodel.pth\u001b[39;49;00m\u001b[33m'\u001b[39;49;00m)\r\n",
      "    \u001b[34mwith\u001b[39;49;00m \u001b[36mopen\u001b[39;49;00m(model_path, \u001b[33m'\u001b[39;49;00m\u001b[33mrb\u001b[39;49;00m\u001b[33m'\u001b[39;49;00m) \u001b[34mas\u001b[39;49;00m f:\r\n",
      "        model.load_state_dict(torch.load(f))\r\n",
      "\r\n",
      "    \u001b[37m# Load the saved word_dict.\u001b[39;49;00m\r\n",
      "    word_dict_path = os.path.join(model_dir, \u001b[33m'\u001b[39;49;00m\u001b[33mword_dict.pkl\u001b[39;49;00m\u001b[33m'\u001b[39;49;00m)\r\n",
      "    \u001b[34mwith\u001b[39;49;00m \u001b[36mopen\u001b[39;49;00m(word_dict_path, \u001b[33m'\u001b[39;49;00m\u001b[33mrb\u001b[39;49;00m\u001b[33m'\u001b[39;49;00m) \u001b[34mas\u001b[39;49;00m f:\r\n",
      "        model.word_dict = pickle.load(f)\r\n",
      "\r\n",
      "    model.to(device).eval()\r\n",
      "\r\n",
      "    \u001b[36mprint\u001b[39;49;00m(\u001b[33m\"\u001b[39;49;00m\u001b[33mDone loading model.\u001b[39;49;00m\u001b[33m\"\u001b[39;49;00m)\r\n",
      "    \u001b[34mreturn\u001b[39;49;00m model\r\n",
      "\r\n",
      "\u001b[34mdef\u001b[39;49;00m \u001b[32minput_fn\u001b[39;49;00m(serialized_input_data, content_type):\r\n",
      "    \u001b[36mprint\u001b[39;49;00m(\u001b[33m'\u001b[39;49;00m\u001b[33mDeserializing the input data.\u001b[39;49;00m\u001b[33m'\u001b[39;49;00m)\r\n",
      "    \u001b[34mif\u001b[39;49;00m content_type == \u001b[33m'\u001b[39;49;00m\u001b[33mtext/plain\u001b[39;49;00m\u001b[33m'\u001b[39;49;00m:\r\n",
      "        data = serialized_input_data.decode(\u001b[33m'\u001b[39;49;00m\u001b[33mutf-8\u001b[39;49;00m\u001b[33m'\u001b[39;49;00m)\r\n",
      "        \u001b[34mreturn\u001b[39;49;00m data\r\n",
      "    \u001b[34mraise\u001b[39;49;00m \u001b[36mException\u001b[39;49;00m(\u001b[33m'\u001b[39;49;00m\u001b[33mRequested unsupported ContentType in content_type: \u001b[39;49;00m\u001b[33m'\u001b[39;49;00m + content_type)\r\n",
      "\r\n",
      "\u001b[34mdef\u001b[39;49;00m \u001b[32moutput_fn\u001b[39;49;00m(prediction_output, accept):\r\n",
      "    \u001b[36mprint\u001b[39;49;00m(\u001b[33m'\u001b[39;49;00m\u001b[33mSerializing the generated output.\u001b[39;49;00m\u001b[33m'\u001b[39;49;00m)\r\n",
      "    \u001b[34mreturn\u001b[39;49;00m \u001b[36mstr\u001b[39;49;00m(prediction_output)\r\n",
      "\r\n",
      "\u001b[34mdef\u001b[39;49;00m \u001b[32mpredict_fn\u001b[39;49;00m(input_data, model):\r\n",
      "    \u001b[36mprint\u001b[39;49;00m(\u001b[33m'\u001b[39;49;00m\u001b[33mInferring sentiment of input data.\u001b[39;49;00m\u001b[33m'\u001b[39;49;00m)\r\n",
      "\r\n",
      "    device = torch.device(\u001b[33m\"\u001b[39;49;00m\u001b[33mcuda\u001b[39;49;00m\u001b[33m\"\u001b[39;49;00m \u001b[34mif\u001b[39;49;00m torch.cuda.is_available() \u001b[34melse\u001b[39;49;00m \u001b[33m\"\u001b[39;49;00m\u001b[33mcpu\u001b[39;49;00m\u001b[33m\"\u001b[39;49;00m)\r\n",
      "    \r\n",
      "    \u001b[34mif\u001b[39;49;00m model.word_dict \u001b[35mis\u001b[39;49;00m \u001b[34mNone\u001b[39;49;00m:\r\n",
      "        \u001b[34mraise\u001b[39;49;00m \u001b[36mException\u001b[39;49;00m(\u001b[33m'\u001b[39;49;00m\u001b[33mModel has not been loaded properly, no word_dict.\u001b[39;49;00m\u001b[33m'\u001b[39;49;00m)\r\n",
      "    \r\n",
      "    \u001b[37m# Process input_data so that it is ready to be sent to our model.\u001b[39;49;00m\r\n",
      "    \u001b[37m# data_X   - A sequence of length 500 which represents the converted review\u001b[39;49;00m\r\n",
      "    \u001b[37m# data_len - The length of the review\u001b[39;49;00m\r\n",
      "\r\n",
      "    data_X, data_len = convert_and_pad(model.word_dict, review_to_words(input_data))\r\n",
      "\r\n",
      "    \u001b[37m# Using data_X and data_len we construct an appropriate input tensor. Remember\u001b[39;49;00m\r\n",
      "    \u001b[37m# that our model expects input data of the form 'len, review[500]'.\u001b[39;49;00m\r\n",
      "    data_pack = np.hstack((data_len, data_X))\r\n",
      "    data_pack = data_pack.reshape(\u001b[34m1\u001b[39;49;00m, -\u001b[34m1\u001b[39;49;00m)\r\n",
      "    \r\n",
      "    data = torch.from_numpy(data_pack)\r\n",
      "    data = data.to(device)\r\n",
      "\r\n",
      "    \u001b[37m# Make sure to put the model into evaluation mode\u001b[39;49;00m\r\n",
      "    model.eval()\r\n",
      "\r\n",
      "    \u001b[37m# Compute the result of applying the model to the input data. The variable `result` should\u001b[39;49;00m\r\n",
      "    \u001b[37m# be a numpy array which contains a single integer which is either 1 or 0\u001b[39;49;00m\r\n",
      "\r\n",
      "    \u001b[34mwith\u001b[39;49;00m torch.no_grad():\r\n",
      "        out = model.forward(data)\r\n",
      "        \r\n",
      "    result = np.round(out.numpy())\r\n",
      "\r\n",
      "    \u001b[34mreturn\u001b[39;49;00m result\r\n"
     ]
    }
   ],
   "source": [
    "!pygmentize serve/predict.py"
   ]
  },
  {
   "cell_type": "markdown",
   "metadata": {
    "id": "GmckDrJRmCbf"
   },
   "source": [
    "## Deploying the model\n",
    "Now that the custom inference code has been written, we will create and deploy our model. To begin with, we need to construct a new PyTorchModel object which points to the model artifacts created during training and also points to the inference code that we wish to use. Then we can call the deploy method to launch the deployment container.\n",
    "\n",
    "**NOTE**: The default behaviour for a deployed PyTorch model is to assume that any input passed to the predictor is a `numpy` array. In our case we want to send a string so we need to construct a simple wrapper around the `RealTimePredictor` class to accomodate simple strings. In a more complicated situation you may want to provide a serialization object, for example if you wanted to sent image data."
   ]
  },
  {
   "cell_type": "code",
   "execution_count": 59,
   "metadata": {
    "id": "Ft61BhpHmCJK"
   },
   "outputs": [
    {
     "name": "stderr",
     "output_type": "stream",
     "text": [
      "Parameter image will be renamed to image_uri in SageMaker Python SDK v2.\n",
      "'create_image_uri' will be deprecated in favor of 'ImageURIProvider' class in SageMaker Python SDK v2.\n"
     ]
    },
    {
     "name": "stdout",
     "output_type": "stream",
     "text": [
      "-----------!"
     ]
    }
   ],
   "source": [
    "from sagemaker.predictor import RealTimePredictor\n",
    "from sagemaker.pytorch import PyTorchModel\n",
    "\n",
    "class StringPredictor(RealTimePredictor):\n",
    "    def __init__(self, endpoint_name, sagemaker_session):\n",
    "        super(StringPredictor, self).__init__(endpoint_name, sagemaker_session, content_type='text/plain')\n",
    "\n",
    "model = PyTorchModel(model_data=estimator.model_data,\n",
    "                     role = role,\n",
    "                     framework_version='1.0.0',\n",
    "                     entry_point='predict.py',\n",
    "                     source_dir='serve',\n",
    "                     predictor_cls=StringPredictor)\n",
    "predictor = model.deploy(initial_instance_count=1, instance_type='ml.m5.xlarge')"
   ]
  },
  {
   "cell_type": "code",
   "execution_count": 65,
   "metadata": {},
   "outputs": [],
   "source": [
    "test_review = \"Not bad, not bad at all.  I am a sucker for a film that plays havoc with the 'point a to point b' chronology.  Visiting the beginning of the story a number of times and using it as a springboard to jump into other character's POV was very reminiscent of 'Pulp Fiction'.  The characters are almost believable and Scott Wolf playing a gay guy is quite amusing.The story was good and the way I rate films is down to whether I would pay to see it again - and yes, I would. This one is worth a look.\""
   ]
  },
  {
   "cell_type": "code",
   "execution_count": 67,
   "metadata": {},
   "outputs": [
    {
     "data": {
      "text/plain": [
       "b'0.0'"
      ]
     },
     "execution_count": 67,
     "metadata": {},
     "output_type": "execute_result"
    }
   ],
   "source": [
    "# Testing if everything works\n",
    "# We will be using the text we had earlier.\n",
    "\n",
    "predictor.predict(test_review)"
   ]
  },
  {
   "cell_type": "code",
   "execution_count": 68,
   "metadata": {},
   "outputs": [
    {
     "data": {
      "text/plain": [
       "'sagemaker-pytorch-2021-05-05-16-26-35-040'"
      ]
     },
     "execution_count": 68,
     "metadata": {},
     "output_type": "execute_result"
    }
   ],
   "source": [
    "# Get the name of endpoint to be specified in Lambda Function and the interface we are gonna \n",
    "# setup for the web app.\n",
    "\n",
    "predictor.endpoint"
   ]
  },
  {
   "cell_type": "markdown",
   "metadata": {
    "id": "o0QOabDlmQi_"
   },
   "source": [
    "# Step 7 - Using web app to make inference\n",
    "\n",
    "Inorder to achieve this, we need to setup a **Lambda** function. This Lambda function will be executed whenever our public API has data sent to it. When it is executed it will receive the data, perform any sort of processing that is required, send the data (the review) to the SageMaker endpoint we've created and then return the result.\n",
    "\n",
    "We need another setup other than creating the **Lambda Function**, which is setting up the **API Gateway**. Instructions needed for setting up the both including creating a notebook instance in **AWS** is provided in a separate document.\n",
    "\n",
    "\n",
    "Remember to always shutdown the endpoints created if they are no longer used. "
   ]
  },
  {
   "cell_type": "code",
   "execution_count": 70,
   "metadata": {},
   "outputs": [],
   "source": [
    "# estimator.delete_endpoint()\n",
    "predictor.delete_endpoint()"
   ]
  }
 ],
 "metadata": {
  "colab": {
   "authorship_tag": "ABX9TyMgRnFg0RQkoKKmBHPQwEap",
   "collapsed_sections": [],
   "name": "Spoiler_Alert_Deployment.ipynb",
   "provenance": []
  },
  "kernelspec": {
   "display_name": "Python 3",
   "language": "python",
   "name": "python3"
  },
  "language_info": {
   "codemirror_mode": {
    "name": "ipython",
    "version": 3
   },
   "file_extension": ".py",
   "mimetype": "text/x-python",
   "name": "python",
   "nbconvert_exporter": "python",
   "pygments_lexer": "ipython3",
   "version": "3.7.3"
  }
 },
 "nbformat": 4,
 "nbformat_minor": 1
}
